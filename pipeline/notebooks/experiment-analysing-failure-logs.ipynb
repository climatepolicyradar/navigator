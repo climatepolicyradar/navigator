{
 "cells": [
  {
   "cell_type": "markdown",
   "id": "6a221f5d-9650-49a8-9e6e-c0cefe1f5c1b",
   "metadata": {},
   "source": [
    "# Analysing Adobe error messages\n",
    "\n",
    "For issue https://github.com/climatepolicyradar/navigator/issues/348. Keeping while we're figuring out the root cause of some of these errors with the Adobe team.\n",
    "\n"
   ]
  },
  {
   "cell_type": "code",
   "execution_count": 3,
   "id": "072565ec-4957-458a-9ff0-c04815dc49af",
   "metadata": {},
   "outputs": [
    {
     "name": "stdout",
     "output_type": "stream",
     "text": [
      "Collecting pandas\n",
      "  Using cached pandas-1.4.1-cp38-cp38-macosx_10_9_x86_64.whl (11.4 MB)\n",
      "Collecting tqdm\n",
      "  Using cached tqdm-4.63.0-py2.py3-none-any.whl (76 kB)\n",
      "Requirement already satisfied: pytz>=2020.1 in /Users/kalyan/.pyenv/versions/3.8.12/lib/python3.8/site-packages (from pandas) (2021.3)\n",
      "Collecting numpy>=1.18.5\n",
      "  Downloading numpy-1.22.3-cp38-cp38-macosx_10_14_x86_64.whl (17.6 MB)\n",
      "\u001b[2K     \u001b[38;2;114;156;31m━━━━━━━━━━━━━━━━━━━━━━━━━━━━━━━━━━━━━━━\u001b[0m \u001b[32m17.6/17.6 MB\u001b[0m \u001b[31m342.7 kB/s\u001b[0m eta \u001b[36m0:00:00\u001b[0mm eta \u001b[36m0:00:01\u001b[0m[36m0:00:02\u001b[0m\n",
      "\u001b[?25hRequirement already satisfied: python-dateutil>=2.8.1 in /Users/kalyan/.pyenv/versions/3.8.12/lib/python3.8/site-packages (from pandas) (2.8.2)\n",
      "Requirement already satisfied: six>=1.5 in /Users/kalyan/.pyenv/versions/3.8.12/lib/python3.8/site-packages (from python-dateutil>=2.8.1->pandas) (1.15.0)\n",
      "Installing collected packages: tqdm, numpy, pandas\n",
      "Successfully installed numpy-1.22.3 pandas-1.4.1 tqdm-4.63.0\n",
      "\u001b[33mWARNING: You are using pip version 22.0.3; however, version 22.0.4 is available.\n",
      "You should consider upgrading via the '/Users/kalyan/.pyenv/versions/3.8.12/bin/python3.8 -m pip install --upgrade pip' command.\u001b[0m\u001b[33m\n",
      "\u001b[0m"
     ]
    }
   ],
   "source": [
    "!pip install pandas tqdm"
   ]
  },
  {
   "cell_type": "code",
   "execution_count": 4,
   "id": "4607b7c7-686a-4d43-9734-c4777863cf20",
   "metadata": {},
   "outputs": [
    {
     "name": "stderr",
     "output_type": "stream",
     "text": [
      "/Users/kalyan/.pyenv/versions/3.8.12/lib/python3.8/site-packages/tqdm/auto.py:22: TqdmWarning: IProgress not found. Please update jupyter and ipywidgets. See https://ipywidgets.readthedocs.io/en/stable/user_install.html\n",
      "  from .autonotebook import tqdm as notebook_tqdm\n"
     ]
    }
   ],
   "source": [
    "from pathlib import Path\n",
    "import glob\n",
    "import re\n",
    "import os\n",
    "import shutil\n",
    "\n",
    "from tqdm.auto import tqdm\n",
    "import pandas as pd\n",
    "\n",
    "pd.set_option('max_colwidth', 400)"
   ]
  },
  {
   "cell_type": "code",
   "execution_count": 8,
   "id": "0af85473-ca6d-488c-9855-2acf63b0eeac",
   "metadata": {},
   "outputs": [],
   "source": [
    "PDF_DIR = Path(\"../../../data/cclw-en-pdf-docs/\")\n",
    "DATA_DIR = Path(\"../../../data/pdf2text/intermediate/\")\n",
    "OUTPUT_DIR = Path(\"../../../data/pdf2text/output/\")"
   ]
  },
  {
   "cell_type": "markdown",
   "id": "1a3188dc-2dab-49d6-a81b-190dc0a9b555",
   "metadata": {},
   "source": [
    "how many ran through the pipeline?"
   ]
  },
  {
   "cell_type": "code",
   "execution_count": 9,
   "id": "1bfd9e66-7ffd-4ece-9bcc-74adfa7653e8",
   "metadata": {},
   "outputs": [
    {
     "name": "stdout",
     "output_type": "stream",
     "text": [
      "939 in; 939 out\n"
     ]
    }
   ],
   "source": [
    "num_pdfs_in = len(glob.glob(str(PDF_DIR / \"*.pdf\")))\n",
    "num_jsons_out = len(glob.glob(str(OUTPUT_DIR / \"*.json\")))\n",
    "\n",
    "print(f\"{num_pdfs_in} in; {num_jsons_out} out\" )"
   ]
  },
  {
   "cell_type": "markdown",
   "id": "d42d6eb3-80da-4dc0-9649-1a2489f8803b",
   "metadata": {},
   "source": [
    "how many ran through adobe vs the pdf processor?"
   ]
  },
  {
   "cell_type": "code",
   "execution_count": 10,
   "id": "a3abbfe1-b287-4341-a7d5-310c27eca1d4",
   "metadata": {},
   "outputs": [
    {
     "name": "stdout",
     "output_type": "stream",
     "text": [
      "808 (86.05%) passed through adobe. 131 failed in adobe and passed through the embedded text extractor.\n"
     ]
    }
   ],
   "source": [
    "adobe_successes = []\n",
    "embedded_text_extractor_successes = []\n",
    "\n",
    "for file_or_folder in DATA_DIR.iterdir():\n",
    "    if file_or_folder.is_dir():\n",
    "        adobe_successes.append(file_or_folder.name)\n",
    "    elif file_or_folder.suffix == \".xml\" and not file_or_folder.stem.endswith(\"metadata\") and not file_or_folder.stem.endswith(\"outline\"):\n",
    "        embedded_text_extractor_successes.append(file_or_folder)\n",
    "\n",
    "# check that all adobe folders for a split PDF are populated. otherwise remove from successes\n",
    "split_pdfs = list(set([i.split(\"_\")[0] for i in adobe_successes if len(i.split(\"_\")) == 2]))\n",
    "\n",
    "for pdf_name in split_pdfs:\n",
    "    split_dirs = [_dir for _dir in adobe_successes if _dir.startswith(pdf_name)]\n",
    "    \n",
    "    # number of files in each directory created from the split pdfs\n",
    "    split_dir_num_files = [len(list((DATA_DIR / _dir).iterdir())) for _dir in split_dirs]\n",
    "    if not all([i > 0 for i in split_dir_num_files]):\n",
    "        adobe_successes = [i for i in adobe_successes if not i.startswith(pdf_name)]\n",
    "        \n",
    "# remove numbering suffixes from successful split PDFs, then add the extension '.pdf' to all of them\n",
    "adobe_successes = list(set([i.split(\"_\")[0] for i in adobe_successes]))\n",
    "\n",
    "embedded_text_extractor_successes = [filename.with_suffix(\".pdf\") for filename in embedded_text_extractor_successes]\n",
    "\n",
    "len(adobe_successes), len(embedded_text_extractor_successes)\n",
    "perc_successful_adobe = len(adobe_successes) / num_jsons_out * 100\n",
    "\n",
    "print(f\"{len(adobe_successes)} ({round(perc_successful_adobe, 2)}%) passed through adobe. {len(embedded_text_extractor_successes)} failed in adobe and passed through the embedded text extractor.\")"
   ]
  },
  {
   "cell_type": "markdown",
   "id": "332d76b2-2086-40dc-8b6f-6473f90db4a6",
   "metadata": {},
   "source": [
    "what were the reasons for failures?"
   ]
  },
  {
   "cell_type": "code",
   "execution_count": 12,
   "id": "d7df2155-e27b-4ae8-a147-8f0bf6d80325",
   "metadata": {
    "tags": []
   },
   "outputs": [],
   "source": [
    "LOG_PATH = Path(\"../../../data/pdf2text/logs 220314.txt\")\n",
    "\n",
    "with open(LOG_PATH, \"r\") as f:\n",
    "    logs = f.read()\n",
    "    \n",
    "# print(logs)"
   ]
  },
  {
   "cell_type": "code",
   "execution_count": 13,
   "id": "9d9f3986-a62f-4d86-867d-ebbb6aa245f2",
   "metadata": {},
   "outputs": [
    {
     "data": {
      "text/plain": [
       "128"
      ]
     },
     "execution_count": 13,
     "metadata": {},
     "output_type": "execute_result"
    }
   ],
   "source": [
    "# logs_per_doc = re.split(r\"(?:\\d+)it \\[.*]\", logs)\n",
    "logs_per_doc = re.split(r\"ERROR:root:\", logs)\n",
    "len(logs_per_doc)"
   ]
  },
  {
   "cell_type": "code",
   "execution_count": 14,
   "id": "6afc0b7e-4f41-4303-accf-7f0242b21ace",
   "metadata": {
    "tags": []
   },
   "outputs": [
    {
     "data": {
      "text/html": [
       "<div>\n",
       "<style scoped>\n",
       "    .dataframe tbody tr th:only-of-type {\n",
       "        vertical-align: middle;\n",
       "    }\n",
       "\n",
       "    .dataframe tbody tr th {\n",
       "        vertical-align: top;\n",
       "    }\n",
       "\n",
       "    .dataframe thead th {\n",
       "        text-align: right;\n",
       "    }\n",
       "</style>\n",
       "<table border=\"1\" class=\"dataframe\">\n",
       "  <thead>\n",
       "    <tr style=\"text-align: right;\">\n",
       "      <th></th>\n",
       "      <th>msg</th>\n",
       "      <th>pdf_filename</th>\n",
       "      <th>on_split</th>\n",
       "      <th>ssl_error</th>\n",
       "      <th>write_operation_timeout</th>\n",
       "      <th>read_operation_timeout</th>\n",
       "      <th>adobe_500</th>\n",
       "      <th>disqualified</th>\n",
       "      <th>disqualified_exceeds_page_limit</th>\n",
       "    </tr>\n",
       "  </thead>\n",
       "  <tbody>\n",
       "    <tr>\n",
       "      <th>0</th>\n",
       "      <td>Exception encountered while executing operation for /pdf-in/cclw-10012-74d645f813a348aea52d4d1cba9dbc66.pdf: description =Request could not be completed. Possible cause attached!, requestTrackingId=(&lt;class 'requests.exceptions.SSLError'&gt;, SSLError(MaxRetryError(\"HTTPSConnectionPool(host='cpf-ue1.adobe.io', port=443): Max retries exceeded with url: /ops/id/yF30u4Uu9ihhwQCyAqHWjTEFgYpty3a6 (Caus...</td>\n",
       "      <td>cclw-10012-74d645f813a348aea52d4d1cba9dbc66.pdf</td>\n",
       "      <td>False</td>\n",
       "      <td>True</td>\n",
       "      <td>False</td>\n",
       "      <td>False</td>\n",
       "      <td>False</td>\n",
       "      <td>False</td>\n",
       "      <td>False</td>\n",
       "    </tr>\n",
       "    <tr>\n",
       "      <th>1</th>\n",
       "      <td>Exception encountered while executing operation for /pdf-in/cclw-10059-84dfe3f70fd74fd0b5599b9174a5439e.pdf: description =Request could not be completed. Possible cause attached!, requestTrackingId=(&lt;class 'requests.exceptions.ConnectionError'&gt;, ConnectionError(ProtocolError('Connection aborted.', timeout('The write operation timed out'))), &lt;traceback object at 0x7f2677758380&gt;)\\nTraceback (mos...</td>\n",
       "      <td>cclw-10059-84dfe3f70fd74fd0b5599b9174a5439e.pdf</td>\n",
       "      <td>False</td>\n",
       "      <td>False</td>\n",
       "      <td>True</td>\n",
       "      <td>False</td>\n",
       "      <td>False</td>\n",
       "      <td>False</td>\n",
       "      <td>False</td>\n",
       "    </tr>\n",
       "    <tr>\n",
       "      <th>2</th>\n",
       "      <td>Exception encountered while executing operation for /pdf-in/cclw-10086-357cef7658b8440b823e4c76c0b09745.pdf: description =Request could not be completed. Possible cause attached!, requestTrackingId=(&lt;class 'requests.exceptions.ConnectionError'&gt;, ConnectionError(ProtocolError('Connection aborted.', timeout('The write operation timed out'))), &lt;traceback object at 0x7f267784c240&gt;)\\nTraceback (mos...</td>\n",
       "      <td>cclw-10086-357cef7658b8440b823e4c76c0b09745.pdf</td>\n",
       "      <td>False</td>\n",
       "      <td>False</td>\n",
       "      <td>True</td>\n",
       "      <td>False</td>\n",
       "      <td>False</td>\n",
       "      <td>False</td>\n",
       "      <td>False</td>\n",
       "    </tr>\n",
       "    <tr>\n",
       "      <th>3</th>\n",
       "      <td>Exception encountered while executing operation for /temp/cclw-10060-cfc1953eafa945b2b1060c023003d97f_split_3_maxpages_75.pdf: description =ERROR - Unable to extract content. Internal error: Processing timeout; requestTrackingId=Ymk8xdeIxEUPG7jzWKO5bkah7yX68NMu; statusCode=500; errorCode=UNKNOWN\\nTraceback (most recent call last):\\n  File \"/usr/local/lib/python3.8/site-packages/adobe/pdfservic...</td>\n",
       "      <td>cclw-10060-cfc1953eafa945b2b1060c023003d97f_split_3_maxpages_75.pdf</td>\n",
       "      <td>True</td>\n",
       "      <td>False</td>\n",
       "      <td>False</td>\n",
       "      <td>False</td>\n",
       "      <td>True</td>\n",
       "      <td>True</td>\n",
       "      <td>True</td>\n",
       "    </tr>\n",
       "    <tr>\n",
       "      <th>4</th>\n",
       "      <td>Exception encountered while executing operation for /temp/cclw-1055-bf17ca3b41b943fe83f0bd5c5ff36823_split_9_maxpages_75.pdf: description =Request could not be completed. Possible cause attached!, requestTrackingId=(&lt;class 'requests.exceptions.SSLError'&gt;, SSLError(MaxRetryError(\"HTTPSConnectionPool(host='cpf-ue1.adobe.io', port=443): Max retries exceeded with url: /ops/id/76TioTACg8glBjdNAivkC...</td>\n",
       "      <td>cclw-1055-bf17ca3b41b943fe83f0bd5c5ff36823_split_9_maxpages_75.pdf</td>\n",
       "      <td>True</td>\n",
       "      <td>True</td>\n",
       "      <td>False</td>\n",
       "      <td>False</td>\n",
       "      <td>False</td>\n",
       "      <td>True</td>\n",
       "      <td>True</td>\n",
       "    </tr>\n",
       "  </tbody>\n",
       "</table>\n",
       "</div>"
      ],
      "text/plain": [
       "                                                                                                                                                                                                                                                                                                                                                                                                               msg  \\\n",
       "0  Exception encountered while executing operation for /pdf-in/cclw-10012-74d645f813a348aea52d4d1cba9dbc66.pdf: description =Request could not be completed. Possible cause attached!, requestTrackingId=(<class 'requests.exceptions.SSLError'>, SSLError(MaxRetryError(\"HTTPSConnectionPool(host='cpf-ue1.adobe.io', port=443): Max retries exceeded with url: /ops/id/yF30u4Uu9ihhwQCyAqHWjTEFgYpty3a6 (Caus...   \n",
       "1  Exception encountered while executing operation for /pdf-in/cclw-10059-84dfe3f70fd74fd0b5599b9174a5439e.pdf: description =Request could not be completed. Possible cause attached!, requestTrackingId=(<class 'requests.exceptions.ConnectionError'>, ConnectionError(ProtocolError('Connection aborted.', timeout('The write operation timed out'))), <traceback object at 0x7f2677758380>)\\nTraceback (mos...   \n",
       "2  Exception encountered while executing operation for /pdf-in/cclw-10086-357cef7658b8440b823e4c76c0b09745.pdf: description =Request could not be completed. Possible cause attached!, requestTrackingId=(<class 'requests.exceptions.ConnectionError'>, ConnectionError(ProtocolError('Connection aborted.', timeout('The write operation timed out'))), <traceback object at 0x7f267784c240>)\\nTraceback (mos...   \n",
       "3  Exception encountered while executing operation for /temp/cclw-10060-cfc1953eafa945b2b1060c023003d97f_split_3_maxpages_75.pdf: description =ERROR - Unable to extract content. Internal error: Processing timeout; requestTrackingId=Ymk8xdeIxEUPG7jzWKO5bkah7yX68NMu; statusCode=500; errorCode=UNKNOWN\\nTraceback (most recent call last):\\n  File \"/usr/local/lib/python3.8/site-packages/adobe/pdfservic...   \n",
       "4  Exception encountered while executing operation for /temp/cclw-1055-bf17ca3b41b943fe83f0bd5c5ff36823_split_9_maxpages_75.pdf: description =Request could not be completed. Possible cause attached!, requestTrackingId=(<class 'requests.exceptions.SSLError'>, SSLError(MaxRetryError(\"HTTPSConnectionPool(host='cpf-ue1.adobe.io', port=443): Max retries exceeded with url: /ops/id/76TioTACg8glBjdNAivkC...   \n",
       "\n",
       "                                                          pdf_filename  \\\n",
       "0                      cclw-10012-74d645f813a348aea52d4d1cba9dbc66.pdf   \n",
       "1                      cclw-10059-84dfe3f70fd74fd0b5599b9174a5439e.pdf   \n",
       "2                      cclw-10086-357cef7658b8440b823e4c76c0b09745.pdf   \n",
       "3  cclw-10060-cfc1953eafa945b2b1060c023003d97f_split_3_maxpages_75.pdf   \n",
       "4   cclw-1055-bf17ca3b41b943fe83f0bd5c5ff36823_split_9_maxpages_75.pdf   \n",
       "\n",
       "   on_split  ssl_error  write_operation_timeout  read_operation_timeout  \\\n",
       "0     False       True                    False                   False   \n",
       "1     False      False                     True                   False   \n",
       "2     False      False                     True                   False   \n",
       "3      True      False                    False                   False   \n",
       "4      True       True                    False                   False   \n",
       "\n",
       "   adobe_500  disqualified  disqualified_exceeds_page_limit  \n",
       "0      False         False                            False  \n",
       "1      False         False                            False  \n",
       "2      False         False                            False  \n",
       "3       True          True                             True  \n",
       "4      False          True                             True  "
      ]
     },
     "execution_count": 14,
     "metadata": {},
     "output_type": "execute_result"
    }
   ],
   "source": [
    "df = pd.DataFrame(logs_per_doc[1:], columns=['msg'])\n",
    "\n",
    "def clean_logs(logs: str):\n",
    "    logs = logs.strip().strip(\"\\n\")\n",
    "    \n",
    "    return logs\n",
    "\n",
    "df['msg'] = df['msg'].apply(clean_logs)\n",
    "\n",
    "# df['adobe_error'] = df['msg'].str.startswith('ERROR:root')\n",
    "df['pdf_filename'] = df['msg'].apply(lambda i: re.findall(r\"cclw-(?:\\d+)-(?:\\w+).pdf\", i)).apply(lambda i: i[0] if len(i) == 1 else None)\n",
    "df['on_split'] = df['msg'].str.contains('_split_')\n",
    "df['ssl_error'] = df['msg'].str.contains('EOF occurred in violation of protocol')\n",
    "# TODO: retry subset of write timeout on ec2\n",
    "df['write_operation_timeout'] = df['msg'].str.contains('The write operation timed out')\n",
    "df['read_operation_timeout'] = df['msg'].str.contains('requests.exceptions.ReadTimeout|ConnectionError\\(ReadTimeoutError')\n",
    "df['adobe_500'] = df['msg'].str.contains('statusCode=500')\n",
    "df['disqualified'] = df['msg'].str.contains('DISQUALIFIED')\n",
    "df['disqualified_exceeds_page_limit'] = df['msg'].str.contains('DISQUALIFIED - File not suitable for content extraction: File exceeds page limit')\n",
    "\n",
    "df.head(5)"
   ]
  },
  {
   "cell_type": "code",
   "execution_count": 15,
   "id": "98f8c702-0ba7-4b0e-84f0-8b22fc414d26",
   "metadata": {},
   "outputs": [
    {
     "data": {
      "text/plain": [
       "msg                                Exception encountered while executing operation for /pdf-in/cclw-10012-74d645f813a348aea52d4d1cba9dbc66.pdf: description =Request could not be completed. Possible cause attached!, requestTrackingId=(<class 'requests.exceptions.SSLError'>, SSLError(MaxRetryError(\"HTTPSConnectionPool(host='cpf-ue1.adobe.io', port=443): Max retries exceeded with url: /ops/id/yF30u4Uu9ihhwQCyAqHWjTEFgYpty3a6 (Caus...\n",
       "pdf_filename                       cclw-10012-74d645f813a348aea52d4d1cba9dbc66.pdfcclw-10059-84dfe3f70fd74fd0b5599b9174a5439e.pdfcclw-10086-357cef7658b8440b823e4c76c0b09745.pdfcclw-10060-cfc1953eafa945b2b1060c023003d97f_split_3_maxpages_75.pdfcclw-1055-bf17ca3b41b943fe83f0bd5c5ff36823_split_9_maxpages_75.pdfcclw-1226-affd6e141eab40b8bae56ae6baefb071.pdfcclw-1227-ded7fb8ad19147a3ab2bcd710dded935.pdfcclw-1262-70944289946846c9ac03...\n",
       "on_split                                                                                                                                                                                                                                                                                                                                                                                                                                        19\n",
       "ssl_error                                                                                                                                                                                                                                                                                                                                                                                                                                       24\n",
       "write_operation_timeout                                                                                                                                                                                                                                                                                                                                                                                                                         71\n",
       "read_operation_timeout                                                                                                                                                                                                                                                                                                                                                                                                                          21\n",
       "adobe_500                                                                                                                                                                                                                                                                                                                                                                                                                                       10\n",
       "disqualified                                                                                                                                                                                                                                                                                                                                                                                                                                    19\n",
       "disqualified_exceeds_page_limit                                                                                                                                                                                                                                                                                                                                                                                                                 19\n",
       "dtype: object"
      ]
     },
     "execution_count": 15,
     "metadata": {},
     "output_type": "execute_result"
    }
   ],
   "source": [
    "df.sum()"
   ]
  },
  {
   "cell_type": "code",
   "execution_count": 17,
   "id": "8fc2d163-1c4a-4b32-9544-01f25200ba80",
   "metadata": {
    "tags": []
   },
   "outputs": [
    {
     "data": {
      "text/html": [
       "<div>\n",
       "<style scoped>\n",
       "    .dataframe tbody tr th:only-of-type {\n",
       "        vertical-align: middle;\n",
       "    }\n",
       "\n",
       "    .dataframe tbody tr th {\n",
       "        vertical-align: top;\n",
       "    }\n",
       "\n",
       "    .dataframe thead th {\n",
       "        text-align: right;\n",
       "    }\n",
       "</style>\n",
       "<table border=\"1\" class=\"dataframe\">\n",
       "  <thead>\n",
       "    <tr style=\"text-align: right;\">\n",
       "      <th></th>\n",
       "      <th>msg</th>\n",
       "      <th>pdf_filename</th>\n",
       "      <th>on_split</th>\n",
       "      <th>ssl_error</th>\n",
       "      <th>write_operation_timeout</th>\n",
       "      <th>read_operation_timeout</th>\n",
       "      <th>adobe_500</th>\n",
       "      <th>disqualified</th>\n",
       "      <th>disqualified_exceeds_page_limit</th>\n",
       "    </tr>\n",
       "  </thead>\n",
       "  <tbody>\n",
       "    <tr>\n",
       "      <th>3</th>\n",
       "      <td>Exception encountered while executing operation for /temp/cclw-10060-cfc1953eafa945b2b1060c023003d97f_split_3_maxpages_75.pdf: description =ERROR - Unable to extract content. Internal error: Processing timeout; requestTrackingId=Ymk8xdeIxEUPG7jzWKO5bkah7yX68NMu; statusCode=500; errorCode=UNKNOWN\\nTraceback (most recent call last):\\n  File \"/usr/local/lib/python3.8/site-packages/adobe/pdfservices/operation/pdfops/extract_pdf_operation.py\", line 134, in execute\\n    ExtractPDFAPI.download_and_save(location=location, context=execution_context, file_location=file_location)\\n  File \"/usr/local/lib/python3.8/site-packages/adobe/pdfservices/operation/internal/service/extract_pdf_api.py\", line 48, in download_and_save\\n    response = CPFApi.cpf_status_api(location, context)\\n  File \"/usr/local/lib/python3.8/site-packages/adobe/pdfservices/operation/internal/api/cpf_api.py\", line 86, in cpf_status_api\\n    response = polling2.poll(\\n  File \"/usr/local/lib/python3.8/site-packages/polling2.py\", line 191, in poll\\n    val = target(*args, **kwargs)\\n  File \"/usr/local/lib/python3.8/site-packages/adobe/pdfservices/operation/internal/api/cpf_api.py\", line 87, in &lt;lambda&gt;\\n    lambda: http_client.process_request(http_request=http_request,\\n  File \"/usr/local/lib/python3.8/site-packages/adobe/pdfservices/operation/internal/http/http_client.py\", line 42, in process_request\\n    if _handle_response_and_retry(response, success_status_codes,\\n  File \"/usr/local/lib/python3.8/site-packages/adobe/pdfservices/operation/internal/http/http_client.py\", line 105, in _handle_response_and_retry\\n    raise OperationException(message=\"Error response received for request\",\\nadobe.pdfservices.operation.internal.exceptions.OperationException\\n\\nDuring handling of the above exception, another exception occurred:\\n\\nTraceback (most recent call last):\\n  File \"/app/extract/extract.py\", line 655, in pdf_to_data\\n    result = self._get_adobe_api_result(pdf_filepath)\\n  File \"/app/extract/extract.py\", line 621, in _get_adobe_api_result\\n    result = extract_pdf_operation.execute(_execution_context)\\n  File \"/usr/local/lib/python3.8/site-packages/adobe/pdfservices/operation/pdfops/extract_pdf_operation.py\", line 138, in execute\\n    raise ServiceApiException(message=oex.error_message, error_code=oex.error_code,\\nadobe.pdfservices.operation.exception.exceptions.ServiceApiException: description =DISQUALIFIED - File not suitable for content extraction: File exceeds page limit; requestTrackingId=nHN9n10ze6KhEGcuuhAm2tHQuechg2uP; statusCode=400; errorCode=UNKNOWN\\n\\nDuring handling of the above exception, another exception occurred:\\n\\nTraceback (most recent call last):\\n  File \"/usr/local/lib/python3.8/site-packages/adobe/pdfservices/operation/pdfops/extract_pdf_operation.py\", line 134, in execute\\n    ExtractPDFAPI.download_and_save(location=location, context=execution_context, file_location=file_location)\\n  File \"/usr/local/lib/python3.8/site-packages/adobe/pdfservices/operation/internal/service/extract_pdf_api.py\", line 48, in download_and_save\\n    response = CPFApi.cpf_status_api(location, context)\\n  File \"/usr/local/lib/python3.8/site-packages/adobe/pdfservices/operation/internal/api/cpf_api.py\", line 86, in cpf_status_api\\n    response = polling2.poll(\\n  File \"/usr/local/lib/python3.8/site-packages/polling2.py\", line 191, in poll\\n    val = target(*args, **kwargs)\\n  File \"/usr/local/lib/python3.8/site-packages/adobe/pdfservices/operation/internal/api/cpf_api.py\", line 87, in &lt;lambda&gt;\\n    lambda: http_client.process_request(http_request=http_request,\\n  File \"/usr/local/lib/python3.8/site-packages/adobe/pdfservices/operation/internal/http/http_client.py\", line 42, in process_request\\n    if _handle_response_and_retry(response, success_status_codes,\\n  File \"/usr/local/lib/python3.8/site-packages/adobe/pdfservices/operation/internal/http/http_client.py\", line 105, in _handle_response_and_retry\\n    raise OperationException(message=\"Error response received for request\",\\nadobe.pdfservices.operation.internal.exceptions.OperationException\\n\\nDuring handling of the above exception, another exception occurred:\\n\\nTraceback (most recent call last):\\n  File \"/app/extract/extract.py\", line 655, in pdf_to_data\\n    result = self._get_adobe_api_result(pdf_filepath)\\n  File \"/app/extract/extract.py\", line 621, in _get_adobe_api_result\\n    result = extract_pdf_operation.execute(_execution_context)\\n  File \"/usr/local/lib/python3.8/site-packages/adobe/pdfservices/operation/pdfops/extract_pdf_operation.py\", line 138, in execute\\n    raise ServiceApiException(message=oex.error_message, error_code=oex.error_code,\\nadobe.pdfservices.operation.exception.exceptions.ServiceApiException: description =ERROR - Unable to extract content. Internal error: Processing timeout; requestTrackingId=Ymk8xdeIxEUPG7jzWKO5bkah7yX68NMu; statusCode=500; errorCode=UNKNOWN\\n48it [23:38, 16.76s/it]</td>\n",
       "      <td>cclw-10060-cfc1953eafa945b2b1060c023003d97f_split_3_maxpages_75.pdf</td>\n",
       "      <td>True</td>\n",
       "      <td>False</td>\n",
       "      <td>False</td>\n",
       "      <td>False</td>\n",
       "      <td>True</td>\n",
       "      <td>True</td>\n",
       "      <td>True</td>\n",
       "    </tr>\n",
       "  </tbody>\n",
       "</table>\n",
       "</div>"
      ],
      "text/plain": [
       "                                                                                                                                                                                                                                                                                                                                                                                                                                                                                                                                                                                                                                                                                                                                                                                                                                                                                                                                                                                                                                                                                                                                                                                                                                                                                                                                                                                                                                                                                                                                                                                                                                                                                                                                                                                                                                                                                                                                                                                                                                                                                                                                                                                                                                                                                                                                                                                                                                                                                                                                                                                                                                                                                                                                                                                                                                                                                                                                                                                                                                                                                                                                                                                                                                                                                                                                                                                                                                                                                                                                                                                                                                                                                                                                                                                                                                                                                                                                                                                                                                                                                                                                                                                                                                                                                                                                                                                                                                                                                                                                                                                                                                                                                                                                                                                                                                                                                                                                                                                                                                                                                                                   msg  \\\n",
       "3  Exception encountered while executing operation for /temp/cclw-10060-cfc1953eafa945b2b1060c023003d97f_split_3_maxpages_75.pdf: description =ERROR - Unable to extract content. Internal error: Processing timeout; requestTrackingId=Ymk8xdeIxEUPG7jzWKO5bkah7yX68NMu; statusCode=500; errorCode=UNKNOWN\\nTraceback (most recent call last):\\n  File \"/usr/local/lib/python3.8/site-packages/adobe/pdfservices/operation/pdfops/extract_pdf_operation.py\", line 134, in execute\\n    ExtractPDFAPI.download_and_save(location=location, context=execution_context, file_location=file_location)\\n  File \"/usr/local/lib/python3.8/site-packages/adobe/pdfservices/operation/internal/service/extract_pdf_api.py\", line 48, in download_and_save\\n    response = CPFApi.cpf_status_api(location, context)\\n  File \"/usr/local/lib/python3.8/site-packages/adobe/pdfservices/operation/internal/api/cpf_api.py\", line 86, in cpf_status_api\\n    response = polling2.poll(\\n  File \"/usr/local/lib/python3.8/site-packages/polling2.py\", line 191, in poll\\n    val = target(*args, **kwargs)\\n  File \"/usr/local/lib/python3.8/site-packages/adobe/pdfservices/operation/internal/api/cpf_api.py\", line 87, in <lambda>\\n    lambda: http_client.process_request(http_request=http_request,\\n  File \"/usr/local/lib/python3.8/site-packages/adobe/pdfservices/operation/internal/http/http_client.py\", line 42, in process_request\\n    if _handle_response_and_retry(response, success_status_codes,\\n  File \"/usr/local/lib/python3.8/site-packages/adobe/pdfservices/operation/internal/http/http_client.py\", line 105, in _handle_response_and_retry\\n    raise OperationException(message=\"Error response received for request\",\\nadobe.pdfservices.operation.internal.exceptions.OperationException\\n\\nDuring handling of the above exception, another exception occurred:\\n\\nTraceback (most recent call last):\\n  File \"/app/extract/extract.py\", line 655, in pdf_to_data\\n    result = self._get_adobe_api_result(pdf_filepath)\\n  File \"/app/extract/extract.py\", line 621, in _get_adobe_api_result\\n    result = extract_pdf_operation.execute(_execution_context)\\n  File \"/usr/local/lib/python3.8/site-packages/adobe/pdfservices/operation/pdfops/extract_pdf_operation.py\", line 138, in execute\\n    raise ServiceApiException(message=oex.error_message, error_code=oex.error_code,\\nadobe.pdfservices.operation.exception.exceptions.ServiceApiException: description =DISQUALIFIED - File not suitable for content extraction: File exceeds page limit; requestTrackingId=nHN9n10ze6KhEGcuuhAm2tHQuechg2uP; statusCode=400; errorCode=UNKNOWN\\n\\nDuring handling of the above exception, another exception occurred:\\n\\nTraceback (most recent call last):\\n  File \"/usr/local/lib/python3.8/site-packages/adobe/pdfservices/operation/pdfops/extract_pdf_operation.py\", line 134, in execute\\n    ExtractPDFAPI.download_and_save(location=location, context=execution_context, file_location=file_location)\\n  File \"/usr/local/lib/python3.8/site-packages/adobe/pdfservices/operation/internal/service/extract_pdf_api.py\", line 48, in download_and_save\\n    response = CPFApi.cpf_status_api(location, context)\\n  File \"/usr/local/lib/python3.8/site-packages/adobe/pdfservices/operation/internal/api/cpf_api.py\", line 86, in cpf_status_api\\n    response = polling2.poll(\\n  File \"/usr/local/lib/python3.8/site-packages/polling2.py\", line 191, in poll\\n    val = target(*args, **kwargs)\\n  File \"/usr/local/lib/python3.8/site-packages/adobe/pdfservices/operation/internal/api/cpf_api.py\", line 87, in <lambda>\\n    lambda: http_client.process_request(http_request=http_request,\\n  File \"/usr/local/lib/python3.8/site-packages/adobe/pdfservices/operation/internal/http/http_client.py\", line 42, in process_request\\n    if _handle_response_and_retry(response, success_status_codes,\\n  File \"/usr/local/lib/python3.8/site-packages/adobe/pdfservices/operation/internal/http/http_client.py\", line 105, in _handle_response_and_retry\\n    raise OperationException(message=\"Error response received for request\",\\nadobe.pdfservices.operation.internal.exceptions.OperationException\\n\\nDuring handling of the above exception, another exception occurred:\\n\\nTraceback (most recent call last):\\n  File \"/app/extract/extract.py\", line 655, in pdf_to_data\\n    result = self._get_adobe_api_result(pdf_filepath)\\n  File \"/app/extract/extract.py\", line 621, in _get_adobe_api_result\\n    result = extract_pdf_operation.execute(_execution_context)\\n  File \"/usr/local/lib/python3.8/site-packages/adobe/pdfservices/operation/pdfops/extract_pdf_operation.py\", line 138, in execute\\n    raise ServiceApiException(message=oex.error_message, error_code=oex.error_code,\\nadobe.pdfservices.operation.exception.exceptions.ServiceApiException: description =ERROR - Unable to extract content. Internal error: Processing timeout; requestTrackingId=Ymk8xdeIxEUPG7jzWKO5bkah7yX68NMu; statusCode=500; errorCode=UNKNOWN\\n48it [23:38, 16.76s/it]   \n",
       "\n",
       "                                                          pdf_filename  \\\n",
       "3  cclw-10060-cfc1953eafa945b2b1060c023003d97f_split_3_maxpages_75.pdf   \n",
       "\n",
       "   on_split  ssl_error  write_operation_timeout  read_operation_timeout  \\\n",
       "3      True      False                    False                   False   \n",
       "\n",
       "   adobe_500  disqualified  disqualified_exceeds_page_limit  \n",
       "3       True          True                             True  "
      ]
     },
     "metadata": {},
     "output_type": "display_data"
    }
   ],
   "source": [
    "with pd.option_context('max_colwidth', 10000):\n",
    "    # display(df[~df['read_operation_timeout'] & ~df['write_operation_timeout'] & ~df['adobe_500'] & ~df['ssl_error'] & ~df['disqualified_exceeds_page_limit']])\n",
    "    display(df[df['adobe_500']].head(1))"
   ]
  },
  {
   "cell_type": "code",
   "execution_count": 19,
   "id": "218c75d9-c622-4f86-bb9c-16535cfad895",
   "metadata": {},
   "outputs": [
    {
     "name": "stdout",
     "output_type": "stream",
     "text": [
      "24 pdfs copied to ../../../data/pdf2text/debugging/ssl_error\n",
      "71 pdfs copied to ../../../data/pdf2text/debugging/write_operation_timeout\n",
      "21 pdfs copied to ../../../data/pdf2text/debugging/read_operation_timeout\n",
      "10 pdfs copied to ../../../data/pdf2text/debugging/adobe_500\n",
      "19 pdfs copied to ../../../data/pdf2text/debugging/disqualified_exceeds_page_limit\n"
     ]
    }
   ],
   "source": [
    "DEBUG_FILES_PATH = Path(\"../../../data/pdf2text/debugging/\")\n",
    "\n",
    "def convert_split_pdf_name_into_original(pdf_filename: str) -> str:\n",
    "    if \"split\" not in pdf_filename:\n",
    "        return pdf_filename\n",
    "    \n",
    "    return pdf_filename.split(\"_\")[0] + \".pdf\"\n",
    "\n",
    "for error_type in (\"ssl_error\", \"write_operation_timeout\", \"read_operation_timeout\", \"adobe_500\", \"disqualified_exceeds_page_limit\"):\n",
    "    error_pdf_folder = DEBUG_FILES_PATH / error_type\n",
    "    if not os.path.exists(error_pdf_folder): os.mkdir(error_pdf_folder)\n",
    "    \n",
    "    pdf_filenames = df.loc[df[error_type], \"pdf_filename\"].apply(convert_split_pdf_name_into_original).tolist()\n",
    "    \n",
    "    # for f_name in pdf_filenames:\n",
    "    #     shutil.copy(PDF_DIR/f_name, error_pdf_folder)\n",
    "        \n",
    "    print(f\"{len(pdf_filenames)} pdfs copied to {error_pdf_folder}\")"
   ]
  },
  {
   "cell_type": "markdown",
   "id": "5b23b726-74ee-42c4-b1f6-889f8c2f6b43",
   "metadata": {},
   "source": [
    "## get all failed PDFs to run on EC2"
   ]
  },
  {
   "cell_type": "code",
   "execution_count": 20,
   "id": "121c27a7-619b-4031-96d2-775f190a9a9a",
   "metadata": {
    "tags": []
   },
   "outputs": [
    {
     "data": {
      "text/plain": [
       "131"
      ]
     },
     "execution_count": 20,
     "metadata": {},
     "output_type": "execute_result"
    }
   ],
   "source": [
    "all_pdf_stems = [Path(i).stem for i in glob.glob(str(PDF_DIR / \"*.pdf\"))]\n",
    "\n",
    "failed_pdf_stems = set(all_pdf_stems) - set(adobe_successes)\n",
    "\n",
    "len(failed_pdf_stems)"
   ]
  },
  {
   "cell_type": "code",
   "execution_count": 21,
   "id": "ee603185-bd71-4e79-8c0f-cf68d7be10e5",
   "metadata": {},
   "outputs": [
    {
     "name": "stderr",
     "output_type": "stream",
     "text": [
      "100%|█████████████████████████████████████████████████████████████████████████████████████████████████████████████████████████████████████████████████████████████████████████████████████████████████████████████████████████████████████████████████████████████████████████████████| 131/131 [00:00<00:00, 102740.06it/s]\n"
     ]
    }
   ],
   "source": [
    "for pdf_stem in tqdm(failed_pdf_stems):\n",
    "    pdf_path = PDF_DIR / f\"{pdf_stem}.pdf\"\n",
    "    \n",
    "    # shutil.copy(pdf_path, \"../../data/pdf2text/debugging/all_failed/\")"
   ]
  },
  {
   "cell_type": "markdown",
   "id": "1549b637-5145-4edd-92f5-09eb36676ba5",
   "metadata": {},
   "source": [
    "## analysing results of ec2 run"
   ]
  },
  {
   "cell_type": "code",
   "execution_count": 24,
   "id": "616395b5-242c-4742-a9a9-d95057ae36b3",
   "metadata": {},
   "outputs": [],
   "source": [
    "EC2_INTERMEDIATE_FOLDER = Path(\"../../../data/pdf2text/debugging/all_failed/intermediate/\")\n",
    "EC2_NUM_PDFS = len(glob.glob(str(EC2_INTERMEDIATE_FOLDER.parent / \"*.pdf\")))"
   ]
  },
  {
   "cell_type": "code",
   "execution_count": 25,
   "id": "edafb2ae-8228-4e01-ace6-dd52e3c9f946",
   "metadata": {},
   "outputs": [
    {
     "name": "stdout",
     "output_type": "stream",
     "text": [
      "112 (85.5%) passed through adobe. 16 failed in adobe and passed through the embedded text extractor.\n"
     ]
    }
   ],
   "source": [
    "adobe_successes_ec2 = []\n",
    "embedded_text_extractor_successes_ec2 = []\n",
    "\n",
    "for file_or_folder in EC2_INTERMEDIATE_FOLDER.iterdir():\n",
    "    if file_or_folder.is_dir():\n",
    "        adobe_successes_ec2.append(file_or_folder.name)\n",
    "    elif file_or_folder.suffix == \".xml\" and not file_or_folder.stem.endswith(\"metadata\") and not file_or_folder.stem.endswith(\"outline\"):\n",
    "        embedded_text_extractor_successes_ec2.append(file_or_folder)\n",
    "\n",
    "# check that all adobe folders for a split PDF are populated. otherwise remove from successes\n",
    "split_pdfs = list(set([i.split(\"_\")[0] for i in adobe_successes_ec2 if len(i.split(\"_\")) == 2]))\n",
    "\n",
    "for pdf_name in split_pdfs:\n",
    "    split_dirs = [_dir for _dir in adobe_successes_ec2 if _dir.startswith(pdf_name)]\n",
    "    \n",
    "    # number of files in each directory created from the split pdfs\n",
    "    split_dir_num_files = [len(list((EC2_INTERMEDIATE_FOLDER / _dir).iterdir())) for _dir in split_dirs]\n",
    "    if not all([i > 0 for i in split_dir_num_files]):\n",
    "        adobe_successes_ec2 = [i for i in adobe_successes_ec2 if not i.startswith(pdf_name)]\n",
    "        \n",
    "# remove numbering suffixes from successful split PDFs, then add the extension '.pdf' to all of them\n",
    "adobe_successes_ec2 = list(set([i.split(\"_\")[0] for i in adobe_successes_ec2]))\n",
    "\n",
    "embedded_text_extractor_successes_ec2 = [filename.with_suffix(\".pdf\") for filename in embedded_text_extractor_successes_ec2]\n",
    "\n",
    "len(adobe_successes_ec2), len(embedded_text_extractor_successes_ec2)\n",
    "perc_successful_adobe = len(adobe_successes_ec2) / EC2_NUM_PDFS * 100\n",
    "\n",
    "print(f\"{len(adobe_successes_ec2)} ({round(perc_successful_adobe, 2)}%) passed through adobe. {len(embedded_text_extractor_successes_ec2)} failed in adobe and passed through the embedded text extractor.\")"
   ]
  },
  {
   "cell_type": "code",
   "execution_count": 26,
   "id": "04a6bc6a-a0f3-46c2-8aec-64c820d2bf9f",
   "metadata": {},
   "outputs": [
    {
     "name": "stdout",
     "output_type": "stream",
     "text": [
      "19\n"
     ]
    },
    {
     "data": {
      "text/html": [
       "<div>\n",
       "<style scoped>\n",
       "    .dataframe tbody tr th:only-of-type {\n",
       "        vertical-align: middle;\n",
       "    }\n",
       "\n",
       "    .dataframe tbody tr th {\n",
       "        vertical-align: top;\n",
       "    }\n",
       "\n",
       "    .dataframe thead th {\n",
       "        text-align: right;\n",
       "    }\n",
       "</style>\n",
       "<table border=\"1\" class=\"dataframe\">\n",
       "  <thead>\n",
       "    <tr style=\"text-align: right;\">\n",
       "      <th></th>\n",
       "      <th>msg</th>\n",
       "      <th>pdf_filename</th>\n",
       "      <th>on_split</th>\n",
       "      <th>ssl_error</th>\n",
       "      <th>write_operation_timeout</th>\n",
       "      <th>read_operation_timeout</th>\n",
       "      <th>adobe_500</th>\n",
       "      <th>disqualified</th>\n",
       "      <th>disqualified_exceeds_page_limit</th>\n",
       "    </tr>\n",
       "  </thead>\n",
       "  <tbody>\n",
       "    <tr>\n",
       "      <th>2</th>\n",
       "      <td>Exception encountered while executing operation for /pdf-in/cclw-10086-357cef7658b8440b823e4c76c0b09745.pdf: description =Request could not be completed. Possible cause attached!, requestTrackingId=(&lt;class 'requests.exceptions.ConnectionError'&gt;, ConnectionError(ProtocolError('Connection aborted.', timeout('The write operation timed out'))), &lt;traceback object at 0x7f267784c240&gt;)\\nTraceback (mos...</td>\n",
       "      <td>cclw-10086-357cef7658b8440b823e4c76c0b09745.pdf</td>\n",
       "      <td>False</td>\n",
       "      <td>False</td>\n",
       "      <td>True</td>\n",
       "      <td>False</td>\n",
       "      <td>False</td>\n",
       "      <td>False</td>\n",
       "      <td>False</td>\n",
       "    </tr>\n",
       "    <tr>\n",
       "      <th>66</th>\n",
       "      <td>Exception encountered while executing operation for /pdf-in/cclw-8482-7a59b4bc5d7841cd9d8a0010215c97ec.pdf: description =Request could not be completed. Possible cause attached!, requestTrackingId=(&lt;class 'requests.exceptions.ConnectionError'&gt;, ConnectionError(ProtocolError('Connection aborted.', timeout('The write operation timed out'))), &lt;traceback object at 0x7f2674d6d9c0&gt;)\\nTraceback (most...</td>\n",
       "      <td>cclw-8482-7a59b4bc5d7841cd9d8a0010215c97ec.pdf</td>\n",
       "      <td>False</td>\n",
       "      <td>False</td>\n",
       "      <td>True</td>\n",
       "      <td>False</td>\n",
       "      <td>False</td>\n",
       "      <td>False</td>\n",
       "      <td>False</td>\n",
       "    </tr>\n",
       "    <tr>\n",
       "      <th>67</th>\n",
       "      <td>Exception encountered while executing operation for /pdf-in/cclw-8489-87e2bd2bd4824467bb47dbff4ab62e8b.pdf: description =Request could not be completed. Possible cause attached!, requestTrackingId=(&lt;class 'requests.exceptions.ConnectionError'&gt;, ConnectionError(ProtocolError('Connection aborted.', timeout('The write operation timed out'))), &lt;traceback object at 0x7f26766b8100&gt;)\\nTraceback (most...</td>\n",
       "      <td>cclw-8489-87e2bd2bd4824467bb47dbff4ab62e8b.pdf</td>\n",
       "      <td>False</td>\n",
       "      <td>False</td>\n",
       "      <td>True</td>\n",
       "      <td>False</td>\n",
       "      <td>False</td>\n",
       "      <td>False</td>\n",
       "      <td>False</td>\n",
       "    </tr>\n",
       "    <tr>\n",
       "      <th>82</th>\n",
       "      <td>Exception encountered while executing operation for /pdf-in/cclw-8633-f5db4522ce57485b9b7ddc8ce639e741.pdf: description =Request could not be completed. Possible cause attached!, requestTrackingId=(&lt;class 'requests.exceptions.SSLError'&gt;, SSLError(MaxRetryError(\"HTTPSConnectionPool(host='cpf-ue1.adobe.io', port=443): Max retries exceeded with url: /ops/id/dnGFTu5URfUz9KZp6BX6820BT2cOyQ3D (Cause...</td>\n",
       "      <td>cclw-8633-f5db4522ce57485b9b7ddc8ce639e741.pdf</td>\n",
       "      <td>False</td>\n",
       "      <td>True</td>\n",
       "      <td>False</td>\n",
       "      <td>False</td>\n",
       "      <td>False</td>\n",
       "      <td>False</td>\n",
       "      <td>False</td>\n",
       "    </tr>\n",
       "    <tr>\n",
       "      <th>86</th>\n",
       "      <td>Exception encountered while executing operation for /pdf-in/cclw-8737-67b33aa4117d4f51bb7055f6944a4b4f.pdf: description =Request could not be completed. Possible cause attached!, requestTrackingId=(&lt;class 'requests.exceptions.ConnectionError'&gt;, ConnectionError(ProtocolError('Connection aborted.', timeout('The write operation timed out'))), &lt;traceback object at 0x7f2676275500&gt;)\\nTraceback (most...</td>\n",
       "      <td>cclw-8737-67b33aa4117d4f51bb7055f6944a4b4f.pdf</td>\n",
       "      <td>False</td>\n",
       "      <td>False</td>\n",
       "      <td>True</td>\n",
       "      <td>False</td>\n",
       "      <td>False</td>\n",
       "      <td>False</td>\n",
       "      <td>False</td>\n",
       "    </tr>\n",
       "    <tr>\n",
       "      <th>107</th>\n",
       "      <td>Exception encountered while executing operation for /pdf-in/cclw-9508-78e9d495b9bd405dbed2513f256ee001.pdf: description =Request could not be completed. Possible cause attached!, requestTrackingId=(&lt;class 'requests.exceptions.ConnectionError'&gt;, ConnectionError(ProtocolError('Connection aborted.', timeout('The write operation timed out'))), &lt;traceback object at 0x7f2676f78cc0&gt;)\\nTraceback (most...</td>\n",
       "      <td>cclw-9508-78e9d495b9bd405dbed2513f256ee001.pdf</td>\n",
       "      <td>False</td>\n",
       "      <td>False</td>\n",
       "      <td>True</td>\n",
       "      <td>False</td>\n",
       "      <td>False</td>\n",
       "      <td>False</td>\n",
       "      <td>False</td>\n",
       "    </tr>\n",
       "    <tr>\n",
       "      <th>114</th>\n",
       "      <td>Exception encountered while executing operation for /pdf-in/cclw-9602-999f0a58e7b44922babefe98d1eb4c63.pdf: description =Request could not be completed. Possible cause attached!, requestTrackingId=(&lt;class 'requests.exceptions.ConnectionError'&gt;, ConnectionError(ProtocolError('Connection aborted.', timeout('The write operation timed out'))), &lt;traceback object at 0x7f2675cb7bc0&gt;)\\nTraceback (most...</td>\n",
       "      <td>cclw-9602-999f0a58e7b44922babefe98d1eb4c63.pdf</td>\n",
       "      <td>False</td>\n",
       "      <td>False</td>\n",
       "      <td>True</td>\n",
       "      <td>False</td>\n",
       "      <td>False</td>\n",
       "      <td>False</td>\n",
       "      <td>False</td>\n",
       "    </tr>\n",
       "  </tbody>\n",
       "</table>\n",
       "</div>"
      ],
      "text/plain": [
       "                                                                                                                                                                                                                                                                                                                                                                                                                 msg  \\\n",
       "2    Exception encountered while executing operation for /pdf-in/cclw-10086-357cef7658b8440b823e4c76c0b09745.pdf: description =Request could not be completed. Possible cause attached!, requestTrackingId=(<class 'requests.exceptions.ConnectionError'>, ConnectionError(ProtocolError('Connection aborted.', timeout('The write operation timed out'))), <traceback object at 0x7f267784c240>)\\nTraceback (mos...   \n",
       "66   Exception encountered while executing operation for /pdf-in/cclw-8482-7a59b4bc5d7841cd9d8a0010215c97ec.pdf: description =Request could not be completed. Possible cause attached!, requestTrackingId=(<class 'requests.exceptions.ConnectionError'>, ConnectionError(ProtocolError('Connection aborted.', timeout('The write operation timed out'))), <traceback object at 0x7f2674d6d9c0>)\\nTraceback (most...   \n",
       "67   Exception encountered while executing operation for /pdf-in/cclw-8489-87e2bd2bd4824467bb47dbff4ab62e8b.pdf: description =Request could not be completed. Possible cause attached!, requestTrackingId=(<class 'requests.exceptions.ConnectionError'>, ConnectionError(ProtocolError('Connection aborted.', timeout('The write operation timed out'))), <traceback object at 0x7f26766b8100>)\\nTraceback (most...   \n",
       "82   Exception encountered while executing operation for /pdf-in/cclw-8633-f5db4522ce57485b9b7ddc8ce639e741.pdf: description =Request could not be completed. Possible cause attached!, requestTrackingId=(<class 'requests.exceptions.SSLError'>, SSLError(MaxRetryError(\"HTTPSConnectionPool(host='cpf-ue1.adobe.io', port=443): Max retries exceeded with url: /ops/id/dnGFTu5URfUz9KZp6BX6820BT2cOyQ3D (Cause...   \n",
       "86   Exception encountered while executing operation for /pdf-in/cclw-8737-67b33aa4117d4f51bb7055f6944a4b4f.pdf: description =Request could not be completed. Possible cause attached!, requestTrackingId=(<class 'requests.exceptions.ConnectionError'>, ConnectionError(ProtocolError('Connection aborted.', timeout('The write operation timed out'))), <traceback object at 0x7f2676275500>)\\nTraceback (most...   \n",
       "107  Exception encountered while executing operation for /pdf-in/cclw-9508-78e9d495b9bd405dbed2513f256ee001.pdf: description =Request could not be completed. Possible cause attached!, requestTrackingId=(<class 'requests.exceptions.ConnectionError'>, ConnectionError(ProtocolError('Connection aborted.', timeout('The write operation timed out'))), <traceback object at 0x7f2676f78cc0>)\\nTraceback (most...   \n",
       "114  Exception encountered while executing operation for /pdf-in/cclw-9602-999f0a58e7b44922babefe98d1eb4c63.pdf: description =Request could not be completed. Possible cause attached!, requestTrackingId=(<class 'requests.exceptions.ConnectionError'>, ConnectionError(ProtocolError('Connection aborted.', timeout('The write operation timed out'))), <traceback object at 0x7f2675cb7bc0>)\\nTraceback (most...   \n",
       "\n",
       "                                        pdf_filename  on_split  ssl_error  \\\n",
       "2    cclw-10086-357cef7658b8440b823e4c76c0b09745.pdf     False      False   \n",
       "66    cclw-8482-7a59b4bc5d7841cd9d8a0010215c97ec.pdf     False      False   \n",
       "67    cclw-8489-87e2bd2bd4824467bb47dbff4ab62e8b.pdf     False      False   \n",
       "82    cclw-8633-f5db4522ce57485b9b7ddc8ce639e741.pdf     False       True   \n",
       "86    cclw-8737-67b33aa4117d4f51bb7055f6944a4b4f.pdf     False      False   \n",
       "107   cclw-9508-78e9d495b9bd405dbed2513f256ee001.pdf     False      False   \n",
       "114   cclw-9602-999f0a58e7b44922babefe98d1eb4c63.pdf     False      False   \n",
       "\n",
       "     write_operation_timeout  read_operation_timeout  adobe_500  disqualified  \\\n",
       "2                       True                   False      False         False   \n",
       "66                      True                   False      False         False   \n",
       "67                      True                   False      False         False   \n",
       "82                     False                   False      False         False   \n",
       "86                      True                   False      False         False   \n",
       "107                     True                   False      False         False   \n",
       "114                     True                   False      False         False   \n",
       "\n",
       "     disqualified_exceeds_page_limit  \n",
       "2                              False  \n",
       "66                             False  \n",
       "67                             False  \n",
       "82                             False  \n",
       "86                             False  \n",
       "107                            False  \n",
       "114                            False  "
      ]
     },
     "execution_count": 26,
     "metadata": {},
     "output_type": "execute_result"
    }
   ],
   "source": [
    "failed_ec2_filenames = set([Path(_path).name for _path in glob.glob(str(EC2_INTERMEDIATE_FOLDER.parent / \"*.pdf\"))]) - set([f\"{path}.pdf\" for path in adobe_successes_ec2])\n",
    "print(len(failed_ec2_filenames))\n",
    "df.loc[df['pdf_filename'].isin(failed_ec2_filenames) & ~df['adobe_500'], :]"
   ]
  },
  {
   "cell_type": "code",
   "execution_count": 27,
   "id": "b21a7227-d978-41f1-8a53-367c21ccac9d",
   "metadata": {},
   "outputs": [
    {
     "name": "stderr",
     "output_type": "stream",
     "text": [
      "100%|████████████████████████████████████████████████████████████████████████████████████████████████████████████████████████████████████████████████████████████████████████████████████████████████████████████████████████████████████████████████████████████████████████████████████| 16/16 [00:00<00:00, 77314.36it/s]\n"
     ]
    }
   ],
   "source": [
    "failed_ec2_filenames_adobe_500 = df.loc[df['pdf_filename'].isin(failed_ec2_filenames) & df['adobe_500'], 'pdf_filename'].tolist()\n",
    "filenames_to_retry_ec2 = list(set(failed_ec2_filenames) - set(failed_ec2_filenames_adobe_500))\n",
    "\n",
    "for pdf_name in tqdm(filenames_to_retry_ec2):\n",
    "    pdf_path = PDF_DIR / pdf_name\n",
    "    # enable this line to copy\n",
    "    # shutil.copy(pdf_path, \"../../data/pdf2text/debugging/all_failed_retry/\")"
   ]
  },
  {
   "cell_type": "markdown",
   "id": "1ef9f556-d553-47a6-9d71-8a8f990b5492",
   "metadata": {},
   "source": [
    "## after ec2 run retry\n",
    "\n",
    "increase timeout to remove write limit error -> all PDFs passed except for those with `BAD_PDF` or new `500` errors"
   ]
  },
  {
   "cell_type": "code",
   "execution_count": 28,
   "id": "5963af24-8049-468e-a4a9-ec4af7e843f5",
   "metadata": {},
   "outputs": [],
   "source": [
    "EC2_RETRY_INTERMEDIATE_FOLDER = Path(\"../../../data/pdf2text/debugging/all_failed_retry/intermediate/\")\n",
    "EC2_RETRY_NUM_PDFS = len(glob.glob(str(EC2_RETRY_INTERMEDIATE_FOLDER.parent / \"*.pdf\")))"
   ]
  },
  {
   "cell_type": "code",
   "execution_count": 29,
   "id": "fca04249-bfef-4af5-b06f-c37eeba942b8",
   "metadata": {},
   "outputs": [
    {
     "name": "stdout",
     "output_type": "stream",
     "text": [
      "3 (18.75%) passed through adobe. 13 failed in adobe and passed through the embedded text extractor.\n"
     ]
    }
   ],
   "source": [
    "adobe_successes_ec2_retry = []\n",
    "embedded_text_extractor_successes_ec2_retry = []\n",
    "\n",
    "for file_or_folder in EC2_RETRY_INTERMEDIATE_FOLDER.iterdir():\n",
    "    if file_or_folder.is_dir():\n",
    "        adobe_successes_ec2_retry.append(file_or_folder.name)\n",
    "    elif file_or_folder.suffix == \".xml\" and not file_or_folder.stem.endswith(\"metadata\") and not file_or_folder.stem.endswith(\"outline\"):\n",
    "        embedded_text_extractor_successes_ec2_retry.append(file_or_folder)\n",
    "\n",
    "# check that all adobe folders for a split PDF are populated. otherwise remove from successes\n",
    "split_pdfs = list(set([i.split(\"_\")[0] for i in adobe_successes_ec2_retry if len(i.split(\"_\")) == 2]))\n",
    "\n",
    "for pdf_name in split_pdfs:\n",
    "    split_dirs = [_dir for _dir in adobe_successes_ec2_retry if _dir.startswith(pdf_name)]\n",
    "    \n",
    "    # number of files in each directory created from the split pdfs\n",
    "    split_dir_num_files = [len(list((EC2_RETRY_INTERMEDIATE_FOLDER / _dir).iterdir())) for _dir in split_dirs]\n",
    "    if not all([i > 0 for i in split_dir_num_files]):\n",
    "        adobe_successes_ec2_retry = [i for i in adobe_successes_ec2_retry if not i.startswith(pdf_name)]\n",
    "        \n",
    "# remove numbering suffixes from successful split PDFs, then add the extension '.pdf' to all of them\n",
    "adobe_successes_ec2_retry = list(set([i.split(\"_\")[0] for i in adobe_successes_ec2_retry]))\n",
    "\n",
    "embedded_text_extractor_successes_ec2_retry = [filename.with_suffix(\".pdf\") for filename in embedded_text_extractor_successes_ec2_retry]\n",
    "\n",
    "len(adobe_successes_ec2_retry), len(embedded_text_extractor_successes_ec2_retry)\n",
    "perc_successful_adobe = len(adobe_successes_ec2_retry) / EC2_RETRY_NUM_PDFS * 100\n",
    "\n",
    "print(f\"{len(adobe_successes_ec2_retry)} ({round(perc_successful_adobe, 2)}%) passed through adobe. {len(embedded_text_extractor_successes_ec2_retry)} failed in adobe and passed through the embedded text extractor.\")"
   ]
  },
  {
   "cell_type": "code",
   "execution_count": 31,
   "id": "384477ae-675d-4b35-8050-0328a09a8074",
   "metadata": {},
   "outputs": [
    {
     "data": {
      "text/plain": [
       "[PosixPath('../../../data/pdf2text/debugging/all_failed_retry/intermediate/cclw-9508-78e9d495b9bd405dbed2513f256ee001.pdf'),\n",
       " PosixPath('../../../data/pdf2text/debugging/all_failed_retry/intermediate/cclw-9602-999f0a58e7b44922babefe98d1eb4c63.pdf'),\n",
       " PosixPath('../../../data/pdf2text/debugging/all_failed_retry/intermediate/cclw-8633-f5db4522ce57485b9b7ddc8ce639e741.pdf'),\n",
       " PosixPath('../../../data/pdf2text/debugging/all_failed_retry/intermediate/cclw-9496-3f0dfa47ac5f4a3aa5d03a624c43799d.pdf'),\n",
       " PosixPath('../../../data/pdf2text/debugging/all_failed_retry/intermediate/cclw-10060-cfc1953eafa945b2b1060c023003d97f.pdf'),\n",
       " PosixPath('../../../data/pdf2text/debugging/all_failed_retry/intermediate/cclw-8482-7a59b4bc5d7841cd9d8a0010215c97ec.pdf'),\n",
       " PosixPath('../../../data/pdf2text/debugging/all_failed_retry/intermediate/cclw-8614-86270f4c309b487da16bd03860bcf9d9.pdf'),\n",
       " PosixPath('../../../data/pdf2text/debugging/all_failed_retry/intermediate/cclw-8453-cc35fda39e964e929dce8fd5f6fe1549.pdf'),\n",
       " PosixPath('../../../data/pdf2text/debugging/all_failed_retry/intermediate/cclw-3001-77ab47a8377c43a997d6cf7a9409ea49.pdf'),\n",
       " PosixPath('../../../data/pdf2text/debugging/all_failed_retry/intermediate/cclw-1749-b0e4d257ef5a40a490299d58cb8cdd68.pdf'),\n",
       " PosixPath('../../../data/pdf2text/debugging/all_failed_retry/intermediate/cclw-10086-357cef7658b8440b823e4c76c0b09745.pdf'),\n",
       " PosixPath('../../../data/pdf2text/debugging/all_failed_retry/intermediate/cclw-8489-87e2bd2bd4824467bb47dbff4ab62e8b.pdf'),\n",
       " PosixPath('../../../data/pdf2text/debugging/all_failed_retry/intermediate/cclw-9498-1696fc2e3e994915a34cb5d3759e7e4d.pdf')]"
      ]
     },
     "execution_count": 31,
     "metadata": {},
     "output_type": "execute_result"
    }
   ],
   "source": [
    "embedded_text_extractor_successes_ec2_retry"
   ]
  },
  {
   "cell_type": "markdown",
   "id": "dcb55111-612f-4a39-ad80-daf0558bbba3",
   "metadata": {},
   "source": [
    "## create master dataset\n",
    "\n",
    "1. 3 adobe successes from ec2 retry (increase read and write timeouts)\n",
    "2. 112 adobe successes from first ec2 try (moving environment solved SSL error)\n",
    "3. 808 adobe successes from original run\n",
    "\n",
    "success rate = `808+112+3/939 = 98.3%`\n"
   ]
  },
  {
   "cell_type": "code",
   "execution_count": 30,
   "id": "23c27457-7eef-4105-9878-36a768525001",
   "metadata": {},
   "outputs": [
    {
     "data": {
      "text/plain": [
       "0"
      ]
     },
     "execution_count": 30,
     "metadata": {},
     "output_type": "execute_result"
    }
   ],
   "source": [
    "RETRY_SUCCESSES = adobe_successes_ec2_retry\n",
    "EC2_SUCCESSES = adobe_successes_ec2\n",
    "INITIAL_SUCCESSES = adobe_successes\n",
    "\n",
    "# no overlap\n",
    "len(set(RETRY_SUCCESSES).intersection(set(EC2_SUCCESSES)).intersection(set(INITIAL_SUCCESSES)))"
   ]
  },
  {
   "cell_type": "markdown",
   "id": "975c5e64-c4ad-48c8-984e-d40353851f36",
   "metadata": {},
   "source": [
    "note: the lines to copy files are commented out below so *Kernel -> Restart and Run All* can be used on this notebook without any side effects"
   ]
  },
  {
   "cell_type": "code",
   "execution_count": null,
   "id": "211f6115-38c5-4a1b-a934-fdabfac62f09",
   "metadata": {},
   "outputs": [],
   "source": [
    "MASTER_INTERMEDIATE_FOLDER = Path(\"../../data/pdf2text/intermediate-final\")\n",
    "\n",
    "for pdf_stem in RETRY_SUCCESSES:\n",
    "    f_paths = [_path for _path in EC2_RETRY_INTERMEDIATE_FOLDER.iterdir() if str(_path.name).startswith(pdf_stem)]\n",
    "    \n",
    "    # for path in f_paths:\n",
    "    #     if path.is_dir():\n",
    "    #         shutil.copytree(path, MASTER_INTERMEDIATE_FOLDER/path.name)\n",
    "    #     else:\n",
    "    #         shutil.copy(path, MASTER_INTERMEDIATE_FOLDER)"
   ]
  },
  {
   "cell_type": "code",
   "execution_count": null,
   "id": "351a3748-6ba2-4877-9491-3bd825f33275",
   "metadata": {},
   "outputs": [],
   "source": [
    "for pdf_stem in EC2_SUCCESSES:\n",
    "    f_paths = [_path for _path in EC2_INTERMEDIATE_FOLDER.iterdir() if str(_path.name).startswith(pdf_stem)]\n",
    "    \n",
    "    # for path in f_paths:\n",
    "    #     if path.is_dir():\n",
    "    #         shutil.copytree(path, MASTER_INTERMEDIATE_FOLDER/path.name)\n",
    "    #     else:\n",
    "    #         shutil.copy(path, MASTER_INTERMEDIATE_FOLDER)"
   ]
  },
  {
   "cell_type": "code",
   "execution_count": null,
   "id": "e653d03e-17b2-4427-874a-2e7396579a41",
   "metadata": {},
   "outputs": [],
   "source": [
    "for pdf_stem in INITIAL_SUCCESSES:\n",
    "    f_paths = [_path for _path in DATA_DIR.iterdir() if str(_path.name).startswith(pdf_stem)]\n",
    "    \n",
    "    # for path in f_paths:\n",
    "    #     if path.is_dir():\n",
    "    #         shutil.copytree(path, MASTER_INTERMEDIATE_FOLDER/path.name)\n",
    "    #     else:\n",
    "    #         shutil.copy(path, MASTER_INTERMEDIATE_FOLDER)"
   ]
  },
  {
   "cell_type": "code",
   "execution_count": null,
   "id": "978e80fc-2a61-43d9-94bf-644f0a6e0952",
   "metadata": {},
   "outputs": [],
   "source": [
    "all_pdf_stems = list([p.stem for p in PDF_DIR.iterdir()])\n",
    "failed_pdf_stems = set(all_pdf_stems) - set(RETRY_SUCCESSES) - set(EC2_SUCCESSES) - set(INITIAL_SUCCESSES)\n",
    "\n",
    "# for pdf_stem in failed_pdf_stems:\n",
    "#     f_paths = [_path for _path in DATA_DIR.iterdir() if str(_path.name).startswith(pdf_stem)]\n",
    "    \n",
    "#     for path in f_paths:\n",
    "#         if path.is_dir():\n",
    "#             shutil.copytree(path, MASTER_INTERMEDIATE_FOLDER/path.name)\n",
    "#         else:\n",
    "#             shutil.copy(path, MASTER_INTERMEDIATE_FOLDER)"
   ]
  },
  {
   "cell_type": "code",
   "execution_count": null,
   "id": "e24883fd-ed71-406d-8e7d-2efd01dba9be",
   "metadata": {},
   "outputs": [],
   "source": [
    "# tidy up double nested folders\n",
    "# for _path in tqdm(MASTER_INTERMEDIATE_FOLDER.iterdir()):\n",
    "#     if \"_\" in _path.name:\n",
    "#         for _subpath in _path.iterdir():\n",
    "#             # ignore .DS_Store\n",
    "#             if _subpath.name.startswith(\"cclw\"):\n",
    "#                 for _file in _subpath.iterdir(): \n",
    "#                     if not _file.name.startswith(\".\"):\n",
    "#                         shutil.move(str(_file), str(_subpath.parent))\n",
    "#                 shutil.rmtree(str(_subpath))"
   ]
  }
 ],
 "metadata": {
  "kernelspec": {
   "display_name": "Python 3 (ipykernel)",
   "language": "python",
   "name": "python3"
  },
  "language_info": {
   "codemirror_mode": {
    "name": "ipython",
    "version": 3
   },
   "file_extension": ".py",
   "mimetype": "text/x-python",
   "name": "python",
   "nbconvert_exporter": "python",
   "pygments_lexer": "ipython3",
   "version": "3.8.12"
  }
 },
 "nbformat": 4,
 "nbformat_minor": 5
}
