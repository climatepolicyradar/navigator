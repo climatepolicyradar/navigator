{
 "cells": [
  {
   "cell_type": "code",
   "execution_count": 73,
   "metadata": {
    "collapsed": true
   },
   "outputs": [],
   "source": [
    "import json\n",
    "import os\n",
    "import re\n",
    "from pathlib import Path\n",
    "\n",
    "from tqdm import tqdm\n",
    "\n",
    "from pipeline.extract.extract import AdobeAPIExtractor"
   ]
  },
  {
   "cell_type": "code",
   "execution_count": 43,
   "outputs": [],
   "source": [
    "extractor = AdobeAPIExtractor(credentials_path=\"./pdfservices-credentials.json\")"
   ],
   "metadata": {
    "collapsed": false,
    "pycharm": {
     "name": "#%%\n"
    }
   }
  },
  {
   "cell_type": "code",
   "execution_count": 45,
   "outputs": [
    {
     "name": "stderr",
     "output_type": "stream",
     "text": [
      "  7%|▋         | 34/464 [00:00<00:02, 167.15it/s]"
     ]
    },
    {
     "name": "stdout",
     "output_type": "stream",
     "text": [
      "1\n",
      "2\n",
      "3\n",
      "4\n",
      "5\n",
      "6\n",
      "7\n",
      "8\n",
      "9\n",
      "10\n",
      "11\n",
      "12\n",
      "13\n",
      "14\n",
      "15\n",
      "16\n",
      "17\n",
      "18\n",
      "19\n",
      "20\n",
      "21\n",
      "22\n",
      "23\n",
      "24\n",
      "25\n",
      "26\n",
      "27\n"
     ]
    },
    {
     "name": "stderr",
     "output_type": "stream",
     "text": [
      "100%|██████████| 464/464 [02:49<00:00,  2.74it/s]\n"
     ]
    }
   ],
   "source": [
    "top_dir = \"/home/stefan/Downloads/intermediate-small-temp/intermediate-small-temp\"\n",
    "# iterate through subdirectories and find json files. If found, apply data_to_document method and save to new directory\n",
    "fail_count = 0\n",
    "for dir in tqdm(os.listdir(top_dir)):\n",
    "    if os.path.isdir(top_dir + \"/\" + dir):\n",
    "        for file in os.listdir(top_dir + \"/\" + dir):\n",
    "            try:\n",
    "                if file.endswith(\".json\"):\n",
    "                    pdf_filename = f\"{dir}.pdf\"\n",
    "                    doc = extractor.data_to_document(top_dir + \"/\" + dir + \"/\" + file, pdf_filename)\n",
    "                    doc.save_json(Path(f\"/home/stefan/all_jsons/{dir}.json\"))\n",
    "            except:\n",
    "                # count number of files that failed\n",
    "                fail_count += 1\n",
    "                print(fail_count)\n"
   ],
   "metadata": {
    "collapsed": false,
    "pycharm": {
     "name": "#%%\n"
    }
   }
  },
  {
   "cell_type": "code",
   "execution_count": 75,
   "outputs": [
    {
     "name": "stdout",
     "output_type": "stream",
     "text": [
      "cclw-1493-daab1563867a44b7884d149e895648f4.json: \n",
      "Industrialization, over consumption of fossil-fuels, decreasing use of bio- \n",
      "and environmentally-friendly technologies, skills and knowledge, \n",
      "deforestation and unplanned urbanization have accelerated greenhouse gas \n",
      "emissions, and thereby increased global atmospheric temperature. Along \n",
      "with temperature rise the timing, intensity and the form of precipitation has \n",
      "been variable and uncertain. Problem related to quality and adequacy of \n",
      "water required for human activities is increasing. Climate change has added \n",
      "challenges to livelihood related resources and physical infrastructures. \n",
      "\n",
      "cclw-4824-6b80c0f7de794031b046f6477332418d.json: \n",
      " . Sustaining current strategies such as multi-sectoral strategies and sector- \n",
      "specific strategies on HIV prevention; \n",
      "\n",
      "cclw-4824-6b80c0f7de794031b046f6477332418d.json: \n",
      "At the same time, the Strategy will continue to recognize that cross cutting \n",
      "issues deserve priority from a rights based perspective (e .g . focus interventions \n",
      "on people living with HIV/AIDS simply because they suffer more from poverty) . \n",
      "The rights based perspective will be stressed throughout the Strategy because \n",
      "focusing only on the growth contribution perspective is not consistent with MDG- \n",
      "or rights based approach . \n",
      "\n",
      "cclw-1730-70d33e64413e40aba6122e5a36bfa5d1.json: \n",
      "were set to specifically govern all future short- \n",
      "to medium-term aid-funded budget support \n",
      "initiatives. \n",
      "\n",
      "cclw-1730-70d33e64413e40aba6122e5a36bfa5d1.json: \n",
      "and innovation, and encourage the \n",
      "formalization and growth of micro-, small- \n",
      "and medium-sized enterprises, including \n",
      "\n",
      "cclw-1177-ddc0b3a0277b41589d5e288e877c5e5c.json: \n",
      "Hadley Centre, 2001. The Hadley Centre Regional Climate Modelling System- \n",
      "Predicts: Providing Regional Climates for Impacts Studies, UK Meteorological \n",
      "Office, Bracknell, UK. \n",
      "\n",
      "cclw-1619-f5b7120ccf3a400ba0f37ce88c5f0fc9.json: \n",
      "One of the group’s initiatives is the “ASPIRE- \n",
      "Daily City Pair” programme which promotes \n",
      "best air traffic management practices for gate \n",
      "to gate operations between city/airport pairs for \n",
      "daily flights. The ASPIRE “city pair” between Los \n",
      "Angeles and Singapore on the daily Singapore \n",
      "Airlines non-stop flight (SQ37) was among the \n",
      "first when it was launched on 16 May 2011. This \n",
      "was made possible by the close collaboration \n",
      "between the Civil Aviation Authority of Singapore, \n",
      "Singapore Airlines, the United States Federal \n",
      "Aviation Administration and the Civil Aviation \n",
      "Authority of the Philippines. SQ37 employs \n",
      "enhanced air traffic operational procedures in \n",
      "all phases of the flight—from push back at the \n",
      "gate in Los Angeles to taxiing, take-off, cruising, \n",
      "continuous descent arrival and taxiing back to the \n",
      "gate at Changi Airport. This initiative reduces fuel \n",
      "burnt by approximately 1 tonne (equivalent to 50 \n",
      "pieces of 20kg luggage) and carbon emissions \n",
      "by approximately 3 tonnes (equivalent to 1.1 \n",
      "billion 500ml water bottles) on each Los Angeles-\n",
      "Singapore flight. \n",
      "\n",
      "cclw-1643-25e625e334644a0991fcbab9a08d51b3.json: \n",
      "problem requiring a global solution through the concerted \n",
      "and cooperative efforts of all countries. Should multi-lateral \n",
      "international action not effectively limit the average global \n",
      "temperature increase to below 2°C above pre-industrial \n",
      "levels, the potential impacts on South Africa in the medium- \n",
      "\n",
      "cclw-1643-25e625e334644a0991fcbab9a08d51b3.json: \n",
      "Adaptation requires proactive interventions that minimise \n",
      "projected climate change impacts.To achieve this, medium- \n",
      "and long-term climate projections that represent the full \n",
      "range of possible climate outcomes must be available. \n",
      "They include the risk and scale of projected impacts, the \n",
      "\n"
     ]
    }
   ],
   "source": [
    "# Find the types of cases where there is a hyphen at the end of a line.\n",
    "for file in os.listdir(\"/home/stefan/all_jsons\"):\n",
    "    if file.endswith(\".json\"):\n",
    "        with open(\"/home/stefan/all_jsons/\" + file) as json_file:\n",
    "            data = json.load(json_file)\n",
    "        for page in data['pages']:\n",
    "            for text_block in page['text_blocks']:\n",
    "                # Only look at cases where the text block has multiple elements.\n",
    "                if len(text_block['text']) > 1:\n",
    "                    for ix, li in enumerate(text_block['text']):\n",
    "                        # Check line ends with a word that ends with a hyphen followed by a space.\n",
    "                        if re.findall(r'\\w+-\\s$', li):\n",
    "                            st = '\\n'.join(text_block['text'])\n",
    "                            print(f\"{file}:\", f\"\\n{st}\\n\")\n"
   ],
   "metadata": {
    "collapsed": false,
    "pycharm": {
     "name": "#%%\n"
    }
   }
  },
  {
   "cell_type": "code",
   "execution_count": null,
   "outputs": [],
   "source": [],
   "metadata": {
    "collapsed": false,
    "pycharm": {
     "name": "#%%\n"
    }
   }
  }
 ],
 "metadata": {
  "kernelspec": {
   "display_name": "Python 3",
   "language": "python",
   "name": "python3"
  },
  "language_info": {
   "codemirror_mode": {
    "name": "ipython",
    "version": 2
   },
   "file_extension": ".py",
   "mimetype": "text/x-python",
   "name": "python",
   "nbconvert_exporter": "python",
   "pygments_lexer": "ipython2",
   "version": "2.7.6"
  }
 },
 "nbformat": 4,
 "nbformat_minor": 0
}