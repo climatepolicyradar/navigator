{
 "cells": [
  {
   "cell_type": "code",
   "execution_count": 3,
   "metadata": {},
   "outputs": [
    {
     "name": "stdout",
     "output_type": "stream",
     "text": [
      "Requirement already satisfied: pdfservices-sdk==1.0.1 in /Users/kalyan/.pyenv/versions/3.8.12/lib/python3.8/site-packages (1.0.1)\n",
      "Collecting pypdf2\n",
      "  Downloading PyPDF2-1.26.0.tar.gz (77 kB)\n",
      "\u001b[2K     \u001b[38;2;114;156;31m━━━━━━━━━━━━━━━━━━━━━━━━━━━━━━━━━━━━━━━\u001b[0m \u001b[32m77.6/77.6 KB\u001b[0m \u001b[31m986.6 kB/s\u001b[0m eta \u001b[36m0:00:00\u001b[0m31m1.4 MB/s\u001b[0m eta \u001b[36m0:00:01\u001b[0m\n",
      "\u001b[?25h  Preparing metadata (setup.py) ... \u001b[?25ldone\n",
      "\u001b[?25hRequirement already satisfied: Pygments==2.8.0 in /Users/kalyan/.pyenv/versions/3.8.12/lib/python3.8/site-packages (from pdfservices-sdk==1.0.1) (2.8.0)\n",
      "Requirement already satisfied: polling==0.3.1 in /Users/kalyan/.pyenv/versions/3.8.12/lib/python3.8/site-packages (from pdfservices-sdk==1.0.1) (0.3.1)\n",
      "Requirement already satisfied: PyYAML==5.4.1 in /Users/kalyan/.pyenv/versions/3.8.12/lib/python3.8/site-packages (from pdfservices-sdk==1.0.1) (5.4.1)\n",
      "Requirement already satisfied: cffi==1.14.5 in /Users/kalyan/.pyenv/versions/3.8.12/lib/python3.8/site-packages (from pdfservices-sdk==1.0.1) (1.14.5)\n",
      "Requirement already satisfied: build==0.3.0 in /Users/kalyan/.pyenv/versions/3.8.12/lib/python3.8/site-packages (from pdfservices-sdk==1.0.1) (0.3.0)\n",
      "Requirement already satisfied: requests-toolbelt==0.9.1 in /Users/kalyan/.pyenv/versions/3.8.12/lib/python3.8/site-packages (from pdfservices-sdk==1.0.1) (0.9.1)\n",
      "Requirement already satisfied: certifi==2020.12.5 in /Users/kalyan/.pyenv/versions/3.8.12/lib/python3.8/site-packages (from pdfservices-sdk==1.0.1) (2020.12.5)\n",
      "Requirement already satisfied: pep517==0.9.1 in /Users/kalyan/.pyenv/versions/3.8.12/lib/python3.8/site-packages (from pdfservices-sdk==1.0.1) (0.9.1)\n",
      "Requirement already satisfied: pyparsing==2.4.7 in /Users/kalyan/.pyenv/versions/3.8.12/lib/python3.8/site-packages (from pdfservices-sdk==1.0.1) (2.4.7)\n",
      "Requirement already satisfied: definitions==0.2.0 in /Users/kalyan/.pyenv/versions/3.8.12/lib/python3.8/site-packages (from pdfservices-sdk==1.0.1) (0.2.0)\n",
      "Requirement already satisfied: polling2==0.4.6 in /Users/kalyan/.pyenv/versions/3.8.12/lib/python3.8/site-packages (from pdfservices-sdk==1.0.1) (0.4.6)\n",
      "Requirement already satisfied: pycparser==2.20 in /Users/kalyan/.pyenv/versions/3.8.12/lib/python3.8/site-packages (from pdfservices-sdk==1.0.1) (2.20)\n",
      "Requirement already satisfied: packaging==20.9 in /Users/kalyan/.pyenv/versions/3.8.12/lib/python3.8/site-packages (from pdfservices-sdk==1.0.1) (20.9)\n",
      "Requirement already satisfied: toml==0.10.2 in /Users/kalyan/.pyenv/versions/3.8.12/lib/python3.8/site-packages (from pdfservices-sdk==1.0.1) (0.10.2)\n",
      "Requirement already satisfied: urllib3==1.26.3 in /Users/kalyan/.pyenv/versions/3.8.12/lib/python3.8/site-packages (from pdfservices-sdk==1.0.1) (1.26.3)\n",
      "Requirement already satisfied: six==1.15.0 in /Users/kalyan/.pyenv/versions/3.8.12/lib/python3.8/site-packages (from pdfservices-sdk==1.0.1) (1.15.0)\n",
      "Requirement already satisfied: requests==2.25.1 in /Users/kalyan/.pyenv/versions/3.8.12/lib/python3.8/site-packages (from pdfservices-sdk==1.0.1) (2.25.1)\n",
      "Requirement already satisfied: cryptography==3.4.6 in /Users/kalyan/.pyenv/versions/3.8.12/lib/python3.8/site-packages (from pdfservices-sdk==1.0.1) (3.4.6)\n",
      "Requirement already satisfied: PyJWT==2.0.1 in /Users/kalyan/.pyenv/versions/3.8.12/lib/python3.8/site-packages (from pdfservices-sdk==1.0.1) (2.0.1)\n",
      "Requirement already satisfied: multipart==0.2.4 in /Users/kalyan/.pyenv/versions/3.8.12/lib/python3.8/site-packages (from pdfservices-sdk==1.0.1) (0.2.4)\n",
      "Requirement already satisfied: idna<3,>=2.5 in /Users/kalyan/.pyenv/versions/3.8.12/lib/python3.8/site-packages (from requests==2.25.1->pdfservices-sdk==1.0.1) (2.10)\n",
      "Requirement already satisfied: chardet<5,>=3.0.2 in /Users/kalyan/.pyenv/versions/3.8.12/lib/python3.8/site-packages (from requests==2.25.1->pdfservices-sdk==1.0.1) (4.0.0)\n",
      "Using legacy 'setup.py install' for pypdf2, since package 'wheel' is not installed.\n",
      "Installing collected packages: pypdf2\n",
      "  Running setup.py install for pypdf2 ... \u001b[?25ldone\n",
      "\u001b[?25hSuccessfully installed pypdf2-1.26.0\n"
     ]
    }
   ],
   "source": [
    "!pip install pdfservices-sdk==1.0.1 pypdf2"
   ]
  },
  {
   "cell_type": "code",
   "execution_count": 6,
   "metadata": {},
   "outputs": [],
   "source": [
    "# %load_ext autoreload\n",
    "# %autoreload 2\n",
    "\n",
    "import json\n",
    "import re\n",
    "from typing import List, Tuple\n",
    "from collections import defaultdict\n",
    "\n",
    "from extract.document import TextBlock, Page, Document\n",
    "from extract.extract import DocumentTextExtractor, AdobeAPIExtractor"
   ]
  },
  {
   "cell_type": "code",
   "execution_count": 5,
   "metadata": {},
   "outputs": [],
   "source": [
    "with open(, \"r\") as f:\n",
    "    data = json.load(f)\n"
   ]
  },
  {
   "cell_type": "code",
   "execution_count": 11,
   "metadata": {},
   "outputs": [],
   "source": [
    "DATA_PATH = \"temp-adobe.json\"\n",
    "CREDENTIALS_PATH = \"./pdfservices-credentials.json\"\n",
    "\n",
    "extractor = AdobeAPIExtractor(credentials_path=CREDENTIALS_PATH)\n",
    "\n",
    "doc = extractor.data_to_document(DATA_PATH, pdf_filename=\"_\")\n"
   ]
  },
  {
   "cell_type": "markdown",
   "metadata": {},
   "source": [
    "## postprocess subscripts"
   ]
  },
  {
   "cell_type": "code",
   "execution_count": 12,
   "metadata": {},
   "outputs": [],
   "source": [
    "from collections import Counter\n",
    "from copy import deepcopy\n",
    "\n",
    "class AdobeTextStylingPostProcessor:\n",
    "    @staticmethod\n",
    "    def _classify_text_block_styling(text_block: TextBlock):  \n",
    "        if not text_block.custom_attributes:\n",
    "            return None\n",
    "        \n",
    "        if text_block.custom_attributes.get(\"BaselineShift\", 0) < 0:\n",
    "            return \"subscript\"\n",
    "        elif text_block.custom_attributes.get(\"TextDecorationType\") == \"Underline\":\n",
    "            return \"underline\"\n",
    "        elif text_block.custom_attributes.get(\"TextPosition\") == \"Sup\":\n",
    "            return \"superscript\"\n",
    "        else:\n",
    "            return None\n",
    "    \n",
    "    @staticmethod\n",
    "    def _add_text_styling_markers(text: str, styling: str):\n",
    "        leading_spaces = \" \" * (len(text) - len(text.lstrip(' ')))\n",
    "        trailing_spaces = \" \" * (len(text) - len(text.rstrip(' ')))\n",
    "        \n",
    "        if styling == \"subscript\":\n",
    "            return f\"{leading_spaces}<sub>{text.strip()}</sub>{trailing_spaces}\"\n",
    "        elif styling == \"superscript\":\n",
    "            return f\"{leading_spaces + trailing_spaces}\"\n",
    "        elif styling == \"underline\":\n",
    "            return f\"{leading_spaces}<u>{text.strip()}</u>{trailing_spaces}\"\n",
    "        else:\n",
    "            return text\n",
    "    \n",
    "    def merge_text_blocks(self, text_blocks: List[TextBlock]) -> TextBlock:\n",
    "        all_coords = [tuple(text_block.coords) for text_block in text_blocks]\n",
    "        merged_coords = [\n",
    "            # x0, y0, x1, y1\n",
    "            min([c[0] for c in all_coords]),\n",
    "            min([c[1] for c in all_coords]),\n",
    "            max([c[2] for c in all_coords]),\n",
    "            max([c[3] for c in all_coords]),\n",
    "        ]\n",
    "\n",
    "        merged_block_text = []\n",
    "        \n",
    "        for text_block in text_blocks:\n",
    "            block_styling = self._classify_text_block_styling(text_block)\n",
    "            new_block_text = [self._add_text_styling_markers(line, block_styling) for line in text_block.text]\n",
    "            \n",
    "            if merged_block_text == []:\n",
    "                merged_block_text = new_block_text\n",
    "            else:\n",
    "                merged_block_text[-1] = merged_block_text[-1] + new_block_text[0]\n",
    "                merged_block_text += new_block_text[1:]\n",
    "        \n",
    "        return TextBlock(\n",
    "            text=merged_block_text,\n",
    "            text_block_id=text_blocks[0].text_block_id + \"_merged\",\n",
    "            coords=merged_coords,\n",
    "            path=text_blocks[0].path\n",
    "        )\n",
    "\n",
    "    def process(self, document: Document) -> Document:\n",
    "        new_document = deepcopy(document)\n",
    "                \n",
    "        for page in new_document.pages:\n",
    "            path_counts = Counter(\n",
    "                [tuple(block.path) for block in page.text_blocks]\n",
    "            )\n",
    "\n",
    "            duplicated_paths = [path for path, count in path_counts.items() if count > 1]\n",
    "\n",
    "            for path in duplicated_paths:\n",
    "                text_block_idxs, text_blocks_to_merge = list(zip(*[(idx, block) for idx, block in enumerate(page.text_blocks) if tuple(block.path) == path]))\n",
    "                merged_text_block = self.merge_text_blocks(text_blocks_to_merge)\n",
    "                page.text_blocks = page.text_blocks[0:text_block_idxs[0]] + [merged_text_block] + page.text_blocks[text_block_idxs[-1]+1:]\n",
    "                \n",
    "        return new_document\n",
    "                \n",
    "post_processor = AdobeTextStylingPostProcessor()\n",
    "new_doc = post_processor.process(doc)"
   ]
  },
  {
   "cell_type": "code",
   "execution_count": 13,
   "metadata": {},
   "outputs": [
    {
     "data": {
      "text/plain": [
       "'Message From Hon. Tillman Thomas Prime Minister of Grenada\\nGRENADA LIKE MANY OTHER DEVELOPING SMALL ISLAND STATES HAS NOW\\nformulated an ambitious National Energy Policy (NEP). This Policy is very urgent and timely now that the global energy market is again vulnerable to the high volatility of oil prices. Soaring prices for petroleum and petroleum-related products as a result of the variable weather patterns in Europe and North America, the forecasted rising demand for these commodities in the manufacturing sectors in the USA, Europe and the BRIC nations, renewed concerns over nuclear safety after the Fukushima incident, as well as the political instability of oil producing and oil exporting countries in North Africa and the Middle East warrant that Grenada needs to provide suitable options in transitioning to a low carbon economy based on the utilization of its indigenous alternative sources of energy.The efficient use of energy must also be considered a priority as Grenada seeks to solve its energy access problem.\\nThe Grenada National Energy Policy is the guideline and roadmap to the development of a healthy Energy Mix in Grenada and hence a step forward in resolving energy poverty which critically acts as a barrier to the achievement of the Millennium Development Goals (MDGs). The principles, objectives and strategies for a sustainable energy policy are defined by measures, which aim at obtaining energy security, energy independence, energy efficiency and green energy among other immediate energy issues. These all will serve to achieve the objective of limiting the environmental health impacts of energy usage. Thus a 20% reduction in green house gas emissions from fossil fuel combustion by 2020 will be a measurable goal.\\nTo meet the goals and objectives of the Grenada National Energy Policy (GNEP), it will be imperative to address institutional and regulatory issues by building and managing our human resources and by establishing sound legislation. The steps undertaken to resolve our maritime boundary with Trinidad and Tobago and other neighbouring countries and the creation of legislation and regulations to govern the exploration for and exploitation of offshore hydrocarbons and onshore geothermal resources are ranked as top priorities.\\nThe Government of Grenada understands that the promotion of our indigenous renewable energy potential (geothermal, wind, solar, waste to energy) is imperative so that by 2020 at least twenty percent (20%) of all domestic energy usage should be based on renewable energy sources. Further, emphasis on energy efficiency and conservation in all sectors of the economy is highly anticipated.\\nThe people of Grenada are greatly indebted to the numerous individuals from private business sectors, public sectors, NGOs and external agencies that have all contributed to the drafting of this policy. We are also grateful for the continued assistance provided by international organizations and by our development partners as we now seek to implement this ambitious policy.\\nHon. Tillman Thomas\\nPrime Minister\\nAT THE TIME OF THE ADOPTION OF THIS VITAL ENERGY POLICY, GRENADA\\nimports almost 100% of the fuel used for transport (diesel and gasoline), electricity generation (diesel) and cooking (liquefied petroleum gas – LPG). In the summer of 2008, the global price of oil peaked at US$147/bbl. The variable fuel charge on consumers’ electricity bill soared, pushing the cost of electricity to domestic and commercial consumers to over US$0.35/kWh and the retail price of gasoline to over US$1.50/litre. Prices dipped after the summer of 2008 but three years later the price of oil has returned to and seems destined to stay above US$100/bbl.\\nOur future economic growth and development are constrained by the high costs of energy inputs. Manufacturers, hoteliers, taxi drivers, fisher folk, farmers and the ordinary consumer are all impacted by high energy costs. As Grenadians seek to improve their quality of life, our demand for electricity and modern energy services is increasing at a rate of 3-4% per annum. However, continued reliance on imported sources of primary energy (fossil fuels) that are finite and when combusted are significant contributors to climate change is no longer defensible.\\nIn August 2008, there was a change in the administration of the Government of Grenada. The drafting of a sustainable energy policy, owned by all Grenadians, became an immediate priority. Over the next two years, our Ministry held extensive consultations with many stakeholders, both local and external, and expert advice was obtained through the kind assistance of the Organisation of the American States (OAS).\\nOur tri-island state although small, in terms of landmass, is blessed with abundant sources of renewable energy – solar, wind and potentially geothermal. Our maritime area may contain significant quantities of hydrocarbons. By 2030, we have the potential to be almost 100% “green” in meeting our domestic demand for energy whilst investing the revenue gained from exploiting our potential offshore petroleum reserves.\\nThis policy document has a 20-year vision and is accompanied by an ambitious but achievable 10-year action plan with identified projects, some of which have already started (e.g. the public sector energy conservation programme, the “Energy for the Poor” programme, the wind energy project in Carriacou and the Mt. St. Catherine geothermal project). Our Ministry is committed to providing the required institutional capacity, legislative and fiscal framework to facilitate the implementation of this policy and action plan.\\nThe energy policy presented in this document is country-driven and reflects the special challenges faced by and opportunities available to a small island state that is striving to transition to a secure and sustainable low carbon development path. I commend it to all Grenadians.\\nHon. V. (Nazim) Burke.\\nMinister of Finance, Planning, Economy, Energy and Cooperatives\\nA Low Carbon Development Strategy For Grenada,\\nTHE NATIONAL ENERGY POLICY OF GRENADA\\nCarriacou and\\nPetite Martinique\\nGRENADA, A TRI-ISLAND CARIBBEAN NATION ENCOMPASSING THE ISLANDS\\nof Grenada, Carriacou and Petite Martinique, recognises that energy is a significant driver of development, has serious implications for environmental protection, and requires policy priority in a small island state seeking to define its development path and guarantee its citizens a sustainable quality of life.\\nTherefore, the Government of Grenada embarked on a process of national consultation across the public and private sectors, amongst professional organisations, non-governmental organisations (NGOs) and community-based organisations (CBOs) over an 18-month period (January 2009 – June 2010), as well as engaged consultants to develop a National Energy Policy.\\nThe overarching objective is that the policy should have a distinctive Grenadian signature and character. It should be able to deliver a sustainable low carbon approach to development which will cause Grenada to be a model amongst Small Island Developing States. This document presents an overview of the considerations and objectives which will shape the energy future and development of Grenada.\\nGrenada is affectionately known as “The Spice Isle” of the Caribbean and prior to Hurricane Ivan in 2004, was the largest producer of nutmeg in the Caribbean and the second largest globally. The island also produces other spices such as cinnamon, clove, and agricultural products such as cocoa and bananas. Since Ivan, the national economy has been largely based on services and tourism. The total GDP by economic activity was estimated to be approximately 1,386 million EC dollars (approximately US $519 M) in 2009 and is projected to be just over 1,400 million EC dollars (US $524 M) by the end of 2010 .\\nElectrical power is generated from hydrocarbon sources and is supplied by a single utility company with a base of 41,000 consumers. Given Grenada’s almost total reliance on fossil fuels which it sources from a volatile international market, a predisposition for Grenada to be affected by the will of nature and a recently restructured economy, the Government of Grenada is committed to ensuring that energy security is managed as a national priority. The National Energy Policy of Grenada therefore presents the principal policy principles and objectives of the Government as well as the directives in instruments crafted to ensure that Grenada transitions to sustainable energy sources and consumption.\\nUsing fossil fuels efficiently, whilst transitioning to renewables, even if hydrocarbons are found in the country’s maritime territory, the energy policy is based on eight core principles; (i) ensuring energy security, (ii) achieving energy independence, (iii) maximising energy efficiency, (iv) promoting energy conservation, (v) pursuing environmental sustainability through “green energy”, (vi) guaranteeing sustainable resource exploitation, (vii) minimising energy costs and (viii) energy solidarity.\\nThe ultimate goal of Grenada’s National Energy Policy (GNEP) is to ensure access and provide affordable, equitable, reliable, clean and sustainable energy sources and services to drive and secure national development, and improve the quality of life for all of its citizens.\\nTABLE OF CONTENTS\\ni\\nACRONYMS\\nBbl ............................................................................................Barrels\\nCDM ................................................Clean Development Mechanism\\nCREDP ....Caribbean Renewable Energy Development Programme\\nECERA ..................Eastern Caribbean Energy Regulatory Authority\\nEC$ ..............................................................Eastern Caribbean Dollar\\nEE ............................................................................Energy Efficiency\\nGEF ......................................................Global Environmental Facility\\nGoG..............................................................Government of Grenada\\nGTZ ............Deutsche Gesellschaft für Technische Zusammenarbeit\\n(German Development Agency)\\nGWh ............................................................................Gigawatt-hour\\nIRC ..........................................Independent Regulatory Commission\\nkWh ..............................................................................Kilowatt-hour\\nkWp ............................................................................Kilowatt-peak\\nMW ....................................................................................Megawatt\\nNEP ................................................................National Energy Policy\\nNSEO ........................................National Sustainable Energy Office\\nOAS................................................Organisation of American States\\nOECS ..............................Organisation of Eastern Caribbean States\\nRETs ................................................Renewable Energy Technologies\\nTOE ..............................................................Tonnes of Oil Equivalent\\nOBJECTIVES AND GUIDING PRINCIPLES\\nTHE GOVERNMENT OF GRENADA RECOGNIZES THE IMPORTANCE OF\\nestablishing an energy development strategy to foster the sustainable development of Grenada.\\nThe Government’s vision is to ensure access to affordable, equitable, and reliable energy sources and services to drive and secure national development, and to improve the quality of life for all of its citizens. The Government is therefore committed to:\\n\\ue002\\nFacilitate the integration of renewable energy sources into the national energy mix;\\n\\ue002\\nGuarantee the judicious development of the island’s indigenous hydrocarbon resources;\\n\\ue002\\nGuarantee social inclusiveness and equity to access to energy; and\\n\\ue002\\nBuild a more competitive, productive economy.\\nThis document serves as the guideline for the Government to achieve sustainable energy and low carbon development. Further its purpose is to:\\n\\ue002\\nCreate an appropriate, enabling and dynamic incentive regime, both regulatory and institutional, to achieve a more diversified and sustainable energy sector;\\n\\ue002\\nPlace energy sector management and development within the framework and principles of sustainable development to facilitate the transition to sustainable energy production and use; and\\n\\ue002\\nUse energy as a tool for sustainable development and build resilience into a newly restructured economy to guarantee its citizens a sustainable quality of life.\\nSince the overarching goal of this energy policy is to contribute towards the sustainable development of Grenada, it is prudent to place this energy policy within the framework and principles of sustainable energy development and the St. Georges’ Declaration of Principles for Environmental Sustainability in the OECS. Therefore this National Energy Policy is guided by the following principles:\\n\\ue002\\nEnergy Security\\n– Ensure affordable and reliable supply of energy sources to sustain long-term socio-economic development;\\n\\ue002\\nEnergy Independence\\n– Achieve reduced national reliance on imported energy sources;\\n\\ue002\\nEnergy Efficiency\\n– Maximize the efficient use of energy resources;\\n\\ue002\\nEnergy Conservation\\n– Ensure significant energy conservation in the production and end-use of energy, in particular the consumption per capita;\\n\\ue002\\nEnvironmental Sustainability\\n– Prioritize clean and sustainable energy technologies to transition to a lower carbon economy and reduce potential environmental or public health effects associated with energy production and consumption;\\n\\ue002\\nResource exploitation\\n– Avoid the irresponsible exploitation of energy resources beyond the regeneration capacity;\\n\\ue002\\nEnergy Prices\\n– Ensure rational and effective market conditions and energy services to lower energy prices for the consumer; and\\n\\ue002\\nEnergy Equity and Solidarity\\n– Ensure that all sectors of society have access to affordable and reliable energy services. This also entails securing and leaving enough energy resources for the next generations to satisfy their future needs.\\nFor the purposes of this document the energy sector stakeholders are government, householders, the business, industrial and commercial sectors, interested NGOs, professional, consumer and industry associations, and energy service providers GRENLEC, the petroleum products importers and distributors and energy service companies.\\nOVERVIEW OF THE ENERGY SITUATION\\n2.1 THE GLOBAL SETTING\\n\\ue002\\nGlobal energy consumption is dominated by fossil fuels. It is estimated that approximately 87.3% of global total primary energy supply (TPES) in 2007 was supplied by non-renewable energy sources, while the share of renewables (hydro, geothermal, wind, solar and biomass) was 12.7%, up from 12.5% in 1973, a limited increase in the energy mix, see Figure 1.\\nFigure 1. Fuel shares of total final primary energy supply in 1973 and 2007\\n\\ue002\\nMoreover, despite the high volatility of oil prices on the global market, current consumption for 2009 was 84.9 million barrels per day, expected to grow to 86.5 barrels in 2010 and reach 118 million barrels per day by 2030.\\n\\ue002\\nThe majority of this growth will take place in China, India and OECD countries.\\n\\ue002\\nSoaring oil prices in 2007 and 2008 reached a record high of US$147 a barrel in July 2008 and helped to precipitate a global economic recession, which dampened but did not stop the historically-sustained growth of energy investment, energy consumption and CO<sub>2</sub> emissions.\\n\\ue002\\nOil prices subsequently collapsed to 91 EC$ per barrel (US $34/bl) by the end of 2008, but by the end of 2009 had returned to ~216 EC$ per barrel (US $80/bl). In mid-2011, several of the world’s major economies have shown initial signs of recovery, bringing with it the likelihood of increasing demand and with that increased oil prices.'"
      ]
     },
     "execution_count": 13,
     "metadata": {},
     "output_type": "execute_result"
    }
   ],
   "source": [
    "new_doc.to_string()"
   ]
  },
  {
   "cell_type": "code",
   "execution_count": null,
   "metadata": {},
   "outputs": [
    {
     "data": {
      "text/plain": [
       "[('Document', 'L[4]', 'LI[4]', 'LBody')]"
      ]
     },
     "execution_count": 7,
     "metadata": {},
     "output_type": "execute_result"
    }
   ],
   "source": [
    "\n",
    "page = doc.pages[-1]\n",
    "\n",
    "path_counts = Counter(\n",
    "    [tuple(block.path) for block in page.text_blocks]\n",
    ")\n",
    "\n",
    "duplicated_paths = [path for path, count in path_counts.items() if count > 1]\n",
    "duplicated_paths"
   ]
  },
  {
   "cell_type": "code",
   "execution_count": 14,
   "metadata": {},
   "outputs": [
    {
     "data": {
      "text/plain": [
       "[(10, 11, 12),\n",
       " (TextBlock(text=['Soaring oil prices in 2007 and 2008 reached a record high of US$147 a barrel in July ', '2008 and helped to precipitate a global economic recession, which dampened but did ', 'not stop the historically-sustained growth of energy investment, energy consumption ', 'and CO'], text_block_id='p7_b18', coords=[191.8011932373047, 515.6309967041016, 550.7972717285156, 570.6089935302734], type='LBody', path=['Document', 'L[4]', 'LI[4]', 'LBody'], custom_attributes=None),\n",
       "  TextBlock(text=['2 '], text_block_id='p7_b19', coords=[222.7332000732422, 562.4591064453125, 229.2132110595703, 573.0700988769531], type='StyleSpan', path=['Document', 'L[4]', 'LI[4]', 'LBody'], custom_attributes={'BaselineShift': -3}),\n",
       "  TextBlock(text=['emissions. '], text_block_id='p7_b20', coords=[229.6842041015625, 557.6309967041016, 275.0261535644531, 570.6000061035156], type='LBody', path=['Document', 'L[4]', 'LI[4]', 'LBody'], custom_attributes=None))]"
      ]
     },
     "execution_count": 14,
     "metadata": {},
     "output_type": "execute_result"
    }
   ],
   "source": [
    "list(zip(*[(idx, block) for idx, block in enumerate(page.text_blocks) if tuple(block.path) == path]))"
   ]
  }
 ],
 "metadata": {
  "interpreter": {
   "hash": "be87749a6255d252ad040378f43002f723c0e34b87f0a00235195982ff14862e"
  },
  "kernelspec": {
   "display_name": "Python 3 (ipykernel)",
   "language": "python",
   "name": "python3"
  },
  "language_info": {
   "codemirror_mode": {
    "name": "ipython",
    "version": 3
   },
   "file_extension": ".py",
   "mimetype": "text/x-python",
   "name": "python",
   "nbconvert_exporter": "python",
   "pygments_lexer": "ipython3",
   "version": "3.8.12"
  }
 },
 "nbformat": 4,
 "nbformat_minor": 4
}
