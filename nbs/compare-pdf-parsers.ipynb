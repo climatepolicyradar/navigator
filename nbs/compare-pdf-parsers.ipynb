{
 "cells": [
  {
   "cell_type": "markdown",
   "metadata": {},
   "source": [
    "## PDFMiner"
   ]
  },
  {
   "cell_type": "code",
   "execution_count": 1,
   "metadata": {},
   "outputs": [],
   "source": [
    "from pdfminer.high_level import extract_pages"
   ]
  },
  {
   "cell_type": "code",
   "execution_count": 7,
   "metadata": {},
   "outputs": [],
   "source": [
    "page_layouts = extract_pages(\"cclw-10046-169a288207764ad0bdd5598cedd1d5d0.pdf\", page_numbers=[5])"
   ]
  },
  {
   "cell_type": "code",
   "execution_count": 9,
   "metadata": {},
   "outputs": [],
   "source": [
    "for page_layout in page_layouts:\n",
    "    for element in page_layout:\n",
    "        pass"
   ]
  },
  {
   "cell_type": "markdown",
   "metadata": {},
   "source": [
    "## PDFAlto"
   ]
  },
  {
   "cell_type": "code",
   "execution_count": 2,
   "metadata": {},
   "outputs": [],
   "source": [
    "import subprocess\n",
    "import xml.etree.ElementTree as et\n",
    "from pathlib import Path\n",
    "import json"
   ]
  },
  {
   "cell_type": "code",
   "execution_count": 17,
   "metadata": {},
   "outputs": [],
   "source": [
    "# ~/code/pdfalto/pdfalto -l 10 -noImage -outline -readingOrder file.pdf\n",
    "\n",
    "def doc_to_xml(pdf_path, xml_output_path):\n",
    "    pdfalto_path = \"/root/pdfalto/pdfalto\"\n",
    "\n",
    "    pdf_path = Path(pdf_path)\n",
    "    xml_output_file = xml_output_path / f\"{pdf_path.stem}.xml\"\n",
    "\n",
    "    pdfalto_args = [\n",
    "        pdfalto_path,\n",
    "        \"-noImage\",\n",
    "        \"-outline\",\n",
    "        \"-readingOrder\",\n",
    "        pdf_path,\n",
    "        xml_output_file\n",
    "    ]\n",
    "\n",
    "    retval = subprocess.run(pdfalto_args)\n",
    "\n",
    "    if retval.returncode == 0:\n",
    "        return et.parse(xml_output_file), xml_output_file\n",
    "    \n",
    "    return None"
   ]
  },
  {
   "cell_type": "code",
   "execution_count": 18,
   "metadata": {},
   "outputs": [],
   "source": [
    "pdf_path = Path(\"/workspace/nbs/pdf\")\n",
    "extract_path = Path(\"/workspace/nbs/extract/\")\n",
    "pdf_file = Path(\"cclw-10046-169a288207764ad0bdd5598cedd1d5d0.pdf\")\n",
    "\n",
    "pdf_xml, xml_path = doc_to_xml(pdf_path / pdf_file, extract_path)"
   ]
  },
  {
   "cell_type": "code",
   "execution_count": 19,
   "metadata": {},
   "outputs": [],
   "source": [
    "def parse_doc_xml(pdf_xml: et.ElementTree):\n",
    "    namespace = \"{http://www.loc.gov/standards/alto/ns-v3#}\"\n",
    "    pages = pdf_xml.getroot().findall(\n",
    "        f\"{namespace}Layout/{namespace}Page\"\n",
    "    )\n",
    "\n",
    "    SEP = \" \"\n",
    "\n",
    "    text_blocks = []\n",
    "\n",
    "    for page in pages:\n",
    "        page_id = page.attrib.get(\"ID\", None)\n",
    "        for text_block in page.findall(f\"{namespace}PrintSpace/{namespace}TextBlock\"):\n",
    "            text_block_id = text_block.attrib.get(\"ID\", None)\n",
    "            text_block_lines = []\n",
    "            for text_line in text_block.getchildren():\n",
    "                text_line_content = \"\"\n",
    "                for text in text_line.getchildren():\n",
    "                    text_line_content = text_line_content + SEP + text.attrib.get(\"CONTENT\", \"\")\n",
    "                text_block_lines.append(text_line_content)\n",
    "\n",
    "            if len(text_block_lines) > 0:\n",
    "                text_blocks.append(\n",
    "                    {\n",
    "                        \"text\": \"\".join(text_block_lines).strip(),\n",
    "                        \"text_lines\": text_block_lines,\n",
    "                        \"text_block_id\": text_block_id,\n",
    "                        \"page_id\": page_id\n",
    "                    }\n",
    "                )\n",
    "\n",
    "    return text_blocks"
   ]
  },
  {
   "cell_type": "code",
   "execution_count": 20,
   "metadata": {},
   "outputs": [
    {
     "name": "stderr",
     "output_type": "stream",
     "text": [
      "/tmp/ipykernel_480/2762724801.py:16: DeprecationWarning: This method will be removed in future versions.  Use 'list(elem)' or iteration over elem instead.\n",
      "  for text_line in text_block.getchildren():\n",
      "/tmp/ipykernel_480/2762724801.py:18: DeprecationWarning: This method will be removed in future versions.  Use 'list(elem)' or iteration over elem instead.\n",
      "  for text in text_line.getchildren():\n"
     ]
    }
   ],
   "source": [
    "doc = parse_doc_xml(pdf_xml)"
   ]
  },
  {
   "cell_type": "code",
   "execution_count": 21,
   "metadata": {},
   "outputs": [],
   "source": [
    "def doc_to_json(doc, extract_path: Path, doc_filename: Path):\n",
    "    \"\"\"Save the document to json\n",
    "    \"\"\"\n",
    "\n",
    "    with open(extract_path / f\"{doc_filename.stem}.json\", \"wt\") as f:\n",
    "        json.dump(doc, f, indent=2)"
   ]
  },
  {
   "cell_type": "code",
   "execution_count": 22,
   "metadata": {},
   "outputs": [],
   "source": [
    "doc_to_json(doc, extract_path, pdf_file)"
   ]
  },
  {
   "cell_type": "code",
   "execution_count": 25,
   "metadata": {},
   "outputs": [],
   "source": [
    "def doc_to_text(doc, extract_path: Path, doc_filename: Path):\n",
    "    \"\"\"Save the document to a text file\n",
    "    \"\"\"\n",
    "\n",
    "    with open(extract_path / f\"{doc_filename.stem}.txt\", \"wt\") as f:\n",
    "        for text_block in doc:\n",
    "            f.write(text_block[\"text\"] + \"\\n\")"
   ]
  },
  {
   "cell_type": "code",
   "execution_count": 26,
   "metadata": {},
   "outputs": [],
   "source": [
    "doc_to_text(doc, extract_path, pdf_file)"
   ]
  },
  {
   "cell_type": "markdown",
   "metadata": {},
   "source": [
    "## Process directory containing a set of PDF files"
   ]
  },
  {
   "cell_type": "code",
   "execution_count": 30,
   "metadata": {},
   "outputs": [
    {
     "name": "stdout",
     "output_type": "stream",
     "text": [
      "cclw-10049-dabe51e6042a47f18a53d99735605032.pdf\n",
      "cclw-10049-dabe51e6042a47f18a53d99735605032.txt\n",
      "cclw-1280-6c88046c28e240efa41f7f966fdf3d9a.pdf\n",
      "cclw-1280-6c88046c28e240efa41f7f966fdf3d9a.txt\n",
      "cclw-1318-d7f66920a18e4ddf94c83cf21fa2bcfa.pdf\n",
      "cclw-1318-d7f66920a18e4ddf94c83cf21fa2bcfa.txt\n",
      "cclw-1654-c44dd3724fdb4c569e977b22843b0ae7.pdf\n",
      "cclw-1654-c44dd3724fdb4c569e977b22843b0ae7.txt\n",
      "cclw-4810-37f31b3109704bad90d31cae646ad685.pdf\n",
      "cclw-4810-37f31b3109704bad90d31cae646ad685.txt\n",
      "cclw-4974-f21d876714da4417995887c42921f254.pdf\n",
      "cclw-4974-f21d876714da4417995887c42921f254.txt\n",
      "cclw-8149-5b598bd3e88c4ce99f44cfbd283c9679.pdf\n",
      "cclw-8149-5b598bd3e88c4ce99f44cfbd283c9679.txt\n",
      "cclw-8650-24af4f121de143baa3b633481f7adb78.pdf\n",
      "cclw-8650-24af4f121de143baa3b633481f7adb78.txt\n",
      "cclw-9448-9611f30cbe514f8ba687a1b17f3a52c0.pdf\n",
      "cclw-9448-9611f30cbe514f8ba687a1b17f3a52c0.txt\n",
      "cclw-9460-16dbada00cb8440f9178e93bc7d89677.pdf\n",
      "cclw-9460-16dbada00cb8440f9178e93bc7d89677.txt\n"
     ]
    }
   ],
   "source": [
    "!ls /root/pdf-parsing-evaluation/research/ocr-evaluation/data/test-trimmed-8"
   ]
  },
  {
   "cell_type": "code",
   "execution_count": 31,
   "metadata": {},
   "outputs": [
    {
     "name": "stdout",
     "output_type": "stream",
     "text": [
      "Processing /root/pdf-parsing-evaluation/research/ocr-evaluation/data/test-trimmed-8/cclw-4810-37f31b3109704bad90d31cae646ad685.pdf...\n"
     ]
    },
    {
     "name": "stderr",
     "output_type": "stream",
     "text": [
      "/tmp/ipykernel_480/2762724801.py:16: DeprecationWarning: This method will be removed in future versions.  Use 'list(elem)' or iteration over elem instead.\n",
      "  for text_line in text_block.getchildren():\n",
      "/tmp/ipykernel_480/2762724801.py:18: DeprecationWarning: This method will be removed in future versions.  Use 'list(elem)' or iteration over elem instead.\n",
      "  for text in text_line.getchildren():\n"
     ]
    },
    {
     "name": "stdout",
     "output_type": "stream",
     "text": [
      "Processing /root/pdf-parsing-evaluation/research/ocr-evaluation/data/test-trimmed-8/cclw-9448-9611f30cbe514f8ba687a1b17f3a52c0.pdf...\n",
      "Processing /root/pdf-parsing-evaluation/research/ocr-evaluation/data/test-trimmed-8/cclw-9460-16dbada00cb8440f9178e93bc7d89677.pdf...\n",
      "Processing /root/pdf-parsing-evaluation/research/ocr-evaluation/data/test-trimmed-8/cclw-1280-6c88046c28e240efa41f7f966fdf3d9a.pdf...\n",
      "Processing /root/pdf-parsing-evaluation/research/ocr-evaluation/data/test-trimmed-8/cclw-4974-f21d876714da4417995887c42921f254.pdf...\n",
      "Processing /root/pdf-parsing-evaluation/research/ocr-evaluation/data/test-trimmed-8/cclw-10049-dabe51e6042a47f18a53d99735605032.pdf...\n",
      "Processing /root/pdf-parsing-evaluation/research/ocr-evaluation/data/test-trimmed-8/cclw-8149-5b598bd3e88c4ce99f44cfbd283c9679.pdf...\n",
      "Processing /root/pdf-parsing-evaluation/research/ocr-evaluation/data/test-trimmed-8/cclw-1654-c44dd3724fdb4c569e977b22843b0ae7.pdf...\n",
      "Processing /root/pdf-parsing-evaluation/research/ocr-evaluation/data/test-trimmed-8/cclw-1318-d7f66920a18e4ddf94c83cf21fa2bcfa.pdf...\n",
      "Processing /root/pdf-parsing-evaluation/research/ocr-evaluation/data/test-trimmed-8/cclw-8650-24af4f121de143baa3b633481f7adb78.pdf...\n"
     ]
    }
   ],
   "source": [
    "extract_path = Path(\"/root/pdf-parsing-evaluation/research/ocr-evaluation/data/preds-pdf-parser\")\n",
    "pdf_path = Path(\"/root/pdf-parsing-evaluation/research/ocr-evaluation/data/test-trimmed-8\")\n",
    "for pdf_filename in pdf_path.glob(\"*.pdf\"):\n",
    "    print(f\"Processing {pdf_filename}...\")\n",
    "    pdf_xml, xml_path = doc_to_xml(pdf_path / pdf_filename, extract_path)\n",
    "    doc = parse_doc_xml(pdf_xml)\n",
    "    doc_to_json(doc, extract_path, pdf_filename)\n",
    "    doc_to_text(doc, extract_path, pdf_filename)"
   ]
  },
  {
   "cell_type": "code",
   "execution_count": null,
   "metadata": {},
   "outputs": [],
   "source": []
  }
 ],
 "metadata": {
  "interpreter": {
   "hash": "31f2aee4e71d21fbe5cf8b01ff0e069b9275f58929596ceb00d14d90e3e16cd6"
  },
  "kernelspec": {
   "display_name": "Python 3.8.10 64-bit",
   "language": "python",
   "name": "python3"
  },
  "language_info": {
   "codemirror_mode": {
    "name": "ipython",
    "version": 3
   },
   "file_extension": ".py",
   "mimetype": "text/x-python",
   "name": "python",
   "nbconvert_exporter": "python",
   "pygments_lexer": "ipython3",
   "version": "3.8.12"
  },
  "orig_nbformat": 4
 },
 "nbformat": 4,
 "nbformat_minor": 2
}
