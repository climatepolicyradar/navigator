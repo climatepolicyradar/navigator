{
 "cells": [
  {
   "cell_type": "markdown",
   "id": "cacfd126-67cc-4373-be5e-ea6b14646781",
   "metadata": {},
   "source": [
    "# Opensearch exact query\n",
    "\n",
    "Requirements:\n",
    "- [x] searches for exact phrases in titles, summaries and full text\n",
    "- [x] fields are given priority in the following order: title > summary > text\n",
    "- [x] non-ascii characters are normalised. E.g. 'El Niño' == 'El Nino'\n",
    "- [x] search is case-insensitive\n",
    "- [x] out-of-word punctuation is ignored. E.g. 'electricity!' == 'electricity'.\n",
    "- [x] number of matching passages and documents is returned. \n",
    "- [ ] a user can sort by date and title, ascending or descending. *date done*"
   ]
  },
  {
   "cell_type": "code",
   "execution_count": 2,
   "id": "05e5154b-49d0-442f-9a07-38431f755a99",
   "metadata": {},
   "outputs": [
    {
     "name": "stderr",
     "output_type": "stream",
     "text": [
      "/Users/kalyan/.pyenv/versions/3.8.12/lib/python3.8/site-packages/tqdm/auto.py:22: TqdmWarning: IProgress not found. Please update jupyter and ipywidgets. See https://ipywidgets.readthedocs.io/en/stable/user_install.html\n",
      "  from .autonotebook import tqdm as notebook_tqdm\n"
     ]
    }
   ],
   "source": [
    "%load_ext autoreload\n",
    "%autoreload 2\n",
    "\n",
    "import time\n",
    "import numpy as np\n",
    "from typing import Optional, List, Dict, Tuple\n",
    "\n",
    "from app.index import OpenSearchIndex\n",
    "from app.ml import SBERTEncoder"
   ]
  },
  {
   "cell_type": "markdown",
   "id": "f4220db8-ee7b-4daa-a23c-ccceedb0fa70",
   "metadata": {},
   "source": [
    "## 1. Setup"
   ]
  },
  {
   "cell_type": "markdown",
   "id": "82b23240-2295-409c-aebc-21e0dfb46791",
   "metadata": {},
   "source": [
    "### 1a. Connect to Opensearch\n",
    "As we're outside of docker-compose we'll connect to Opensearch via localhost."
   ]
  },
  {
   "cell_type": "code",
   "execution_count": 3,
   "id": "dbf75b95-017f-4329-9532-8adb8bea7911",
   "metadata": {},
   "outputs": [
    {
     "name": "stdout",
     "output_type": "stream",
     "text": [
      "True\n"
     ]
    }
   ],
   "source": [
    "opensearch = OpenSearchIndex(\n",
    "    url=\"http://localhost:9200\",\n",
    "    username=\"admin\",\n",
    "    password=\"admin\",\n",
    "    index_name=\"navigator\",\n",
    "    # TODO: convert to env variables?\n",
    "    opensearch_connector_kwargs={\n",
    "        \"use_ssl\": False,\n",
    "        \"verify_certs\": False,\n",
    "        \"ssl_show_warn\": False,\n",
    "    },\n",
    "    embedding_dim=768,\n",
    ")\n",
    "\n",
    "print(opensearch.is_connected())\n",
    "\n",
    "opns = opensearch.opns"
   ]
  },
  {
   "cell_type": "markdown",
   "id": "0448b0e3-c086-4b58-b9d2-bb854ee1ec0b",
   "metadata": {},
   "source": [
    "### 1b. Load sentence-BERT encoder\n",
    "\n",
    "This is used to generate embeddings for semantic search."
   ]
  },
  {
   "cell_type": "code",
   "execution_count": 4,
   "id": "60b60939-f1f5-429d-a17d-ea6b6668457c",
   "metadata": {},
   "outputs": [
    {
     "data": {
      "text/plain": [
       "(768,)"
      ]
     },
     "execution_count": 4,
     "metadata": {},
     "output_type": "execute_result"
    }
   ],
   "source": [
    "# TODO: this needs to be the same model as used for indexing. At a later stage when we start updating \n",
    "# models we may want a way of ensuring both models are the same.\n",
    "enc = SBERTEncoder(model_name=\"msmarco-distilbert-dot-v5\")\n",
    "enc.encode(\"hello world\").shape"
   ]
  },
  {
   "cell_type": "code",
   "execution_count": 5,
   "id": "ee1a0a5b-305a-430e-9eb1-d3758b4a66f7",
   "metadata": {},
   "outputs": [
    {
     "data": {
      "text/plain": [
       "(80.994026, 76.67018)"
      ]
     },
     "execution_count": 5,
     "metadata": {},
     "output_type": "execute_result"
    }
   ],
   "source": [
    "emba = enc.encode(\"bicycle race\")\n",
    "embb = enc.encode(\"car race\")\n",
    "embc = enc.encode(\"tortoise race\")\n",
    "\n",
    "np.dot(emba, embb), np.dot(emba, embc)"
   ]
  },
  {
   "cell_type": "markdown",
   "id": "06b9122a-d686-4af4-a4c3-e997c7fa1700",
   "metadata": {},
   "source": [
    "### 2. Run search\n",
    "\n",
    "The `run_query` function does all of the heavy lifting here."
   ]
  },
  {
   "cell_type": "code",
   "execution_count": 115,
   "id": "97b373bc-0f7d-48dd-b8bf-0c3aa28f4a56",
   "metadata": {
    "tags": []
   },
   "outputs": [
    {
     "name": "stdout",
     "output_type": "stream",
     "text": [
      "query execution time: 0.06s\n",
      "returned exactly 2 passage(s) in 1 document(s)\n"
     ]
    },
    {
     "data": {
      "text/plain": [
       "{'took': 52,\n",
       " 'timed_out': False,\n",
       " '_shards': {'total': 1, 'successful': 1, 'skipped': 0, 'failed': 0},\n",
       " 'hits': {'total': {'value': 2, 'relation': 'eq'},\n",
       "  'max_score': None,\n",
       "  'hits': []},\n",
       " 'aggregations': {'top_docs': {'doc_count_error_upper_bound': 0,\n",
       "   'sum_other_doc_count': 0,\n",
       "   'buckets': [{'key': '1151',\n",
       "     'doc_count': 2,\n",
       "     'action_date': {'count': 2,\n",
       "      'min': 1608854400000.0,\n",
       "      'max': 1608854400000.0,\n",
       "      'avg': 1608854400000.0,\n",
       "      'sum': 3217708800000.0,\n",
       "      'min_as_string': '25/12/2020',\n",
       "      'max_as_string': '25/12/2020',\n",
       "      'avg_as_string': '25/12/2020',\n",
       "      'sum_as_string': '19/12/2071'},\n",
       "     'top_hit': {'value': 93.68800354003906},\n",
       "     'top_passage_hits': {'hits': {'total': {'value': 2, 'relation': 'eq'},\n",
       "       'max_score': 93.688,\n",
       "       'hits': [{'_index': 'navigator',\n",
       "         '_type': '_doc',\n",
       "         '_id': 'byat4H8BC-6WN6n86pWH',\n",
       "         '_score': 93.688,\n",
       "         '_source': {'document_name': \"Scheme's guidelines\",\n",
       "          'country_code': 'IRL',\n",
       "          'action_id': 913,\n",
       "          'action_source_name': 'CCLW',\n",
       "          'name': 'National Home Retrofit Scheme 2020 (One Stop Shop Development Call)',\n",
       "          'action_date': '25/12/2020',\n",
       "          'description': '\\xa0This scheme is aimed at engaging groups of private households, registered Housing Associations and Local Authorities and Energy Utilities or other organisations who wish to participate in delivering a “One Stop Shop” type service for energy efficiency works.',\n",
       "          'document_id': 1151,\n",
       "          'document_language_id': 1826.0,\n",
       "          'action_type_name': 'Policy'}},\n",
       "        {'_index': 'navigator',\n",
       "         '_type': '_doc',\n",
       "         '_id': 'iSat4H8BC-6WN6n86pWH',\n",
       "         '_score': 77.16661,\n",
       "         '_source': {'document_name': \"Scheme's guidelines\",\n",
       "          'country_code': 'IRL',\n",
       "          'action_id': 913,\n",
       "          'action_source_name': 'CCLW',\n",
       "          'text_block_id': 'p3_b26',\n",
       "          'name': 'National Home Retrofit Scheme 2020 (One Stop Shop Development Call)',\n",
       "          'action_date': '25/12/2020',\n",
       "          'text': 'This scheme is aimed at engaging groups of private households, registered Housing Associations and \\nLocal Authorities and Energy Utilities or other organisations who wish to participate in delivering a',\n",
       "          'document_id': 1151,\n",
       "          'document_language_id': 1826.0,\n",
       "          'action_type_name': 'Policy'}}]}}}]},\n",
       "  'bucketcount': {'count': 1, 'min': 2.0, 'max': 2.0, 'avg': 2.0, 'sum': 2.0}}}"
      ]
     },
     "execution_count": 115,
     "metadata": {},
     "output_type": "execute_result"
    }
   ],
   "source": [
    "def _year_range_filter(year_range: Tuple[Optional[int], Optional[int]]):\n",
    "    \"\"\"\n",
    "    Get an Opensearch filter for year range. The filter returned is between the first term of\n",
    "    `year_range` and the last term, and is inclusive. Either value can be set to None to only\n",
    "    apply one year constraint.\n",
    "    \"\"\"\n",
    "\n",
    "    start_date = f\"01/01/{year_range[0]}\" if year_range[0] is not None else None\n",
    "    end_date = f\"31/12/{year_range[1]}\" if year_range[1] is not None else None\n",
    "\n",
    "    policy_year_conditions = {}\n",
    "    if start_date is not None:\n",
    "        policy_year_conditions[\"gte\"] = start_date\n",
    "    if end_date is not None:\n",
    "        policy_year_conditions[\"lte\"] = end_date\n",
    "\n",
    "    range_filter = {\"range\": {}}\n",
    "\n",
    "    range_filter[\"range\"][\"action_date\"] = policy_year_conditions\n",
    "\n",
    "    return range_filter\n",
    "    \n",
    "\n",
    "def run_query(\n",
    "    query: str, \n",
    "    max_passages_per_doc: int, \n",
    "    keyword_filters: Optional[Dict[str, List[str]]] = None, \n",
    "    year_range: Optional[Tuple[Optional[int], Optional[int]]] = None,\n",
    "    sort_field: Optional[str] = None,\n",
    "    sort_order: Optional[str] = None,\n",
    ") -> dict:\n",
    "    \"\"\"\n",
    "    Run an Opensearch query.\n",
    "    \n",
    "    Args:\n",
    "        query (str): query string\n",
    "        innerproduct_threshold (float): threshold applied to KNN results\n",
    "        max_passages_per_doc (int): maximum number of passages to return per document\n",
    "        keyword_filters (Optional[Dict[str, List[str]]]): filters on keyword values to apply.\n",
    "        In the format `{\"field_name\": [\"values\", ...], ...}`. Defaults to None.\n",
    "        year_range (Optional[Tuple[Optional[int], Optional[int]]]): filter on action year by (minimum, maximum). \n",
    "        Either value can be set to `None` for a one-sided filter.\n",
    "        sort_field (Optional[str]): field to sort. Only the values `action_date` or `None` are valid at the moment.\n",
    "        sort_order (Optional[str]): order to sort in, applied if `sort_field` is not None. Can be either \"asc\" or \"desc\".\n",
    "    \n",
    "    Returns:\n",
    "        dict: raw Opensearch result.\n",
    "    \"\"\"\n",
    "\n",
    "    opns_query = {\n",
    "                \"size\": 0, # only return aggregations\n",
    "                \"query\": {\n",
    "                    \"bool\": {\n",
    "                        \"should\": [\n",
    "                            # Text passage matching\n",
    "                            {\n",
    "                                \"match_phrase\": {\n",
    "                                    \"text\": {\n",
    "                                        \"query\": query,\n",
    "                                        \"boost\": 1,\n",
    "                                    },\n",
    "                                }\n",
    "                            },\n",
    "                            # Action (to be document) title matching\n",
    "                            {\n",
    "                                \"match_phrase\": {\n",
    "                                    \"name\": {\n",
    "                                        \"query\": query,\n",
    "                                        \"boost\": 3,\n",
    "                                    },\n",
    "                                }\n",
    "                            },\n",
    "                            # Action (to be document) description matching\n",
    "                            {\n",
    "                                \"match_phrase\": {\n",
    "                                    \"description\": {\n",
    "                                        \"query\": query,\n",
    "                                        \"boost\": 2,\n",
    "                                    },\n",
    "                                }\n",
    "                            },\n",
    "                        ],\n",
    "                        \"minimum_should_match\": 1,\n",
    "                    },\n",
    "                },\n",
    "                \"aggs\": {\n",
    "                    \"top_docs\": {\n",
    "                        \"terms\": {\n",
    "                            \"field\": \"document_id\",\n",
    "                            \"order\": {\"top_hit\": \"desc\"},\n",
    "                        },\n",
    "                        \"aggs\": {\n",
    "                            \"top_passage_hits\": {\n",
    "                                \"top_hits\": {\n",
    "                                    \"_source\": {\"excludes\": [\"text_embedding\"]},\n",
    "                                    \"size\": max_passages_per_doc,\n",
    "                                }\n",
    "                            },\n",
    "                            \"top_hit\": {\"max\": {\"script\": {\"source\": \"_score\"}}},\n",
    "                            \"action_date\": {\n",
    "                                \"stats\": {\n",
    "                                    \"field\": \"action_date\"\n",
    "                                }\n",
    "                            },\n",
    "                        },\n",
    "                    },\n",
    "                    \"bucketcount\": {\n",
    "                      \"stats_bucket\": {\n",
    "                        \"buckets_path\": \"top_docs._count\"\n",
    "                      }\n",
    "                    }\n",
    "                },\n",
    "            }\n",
    "    \n",
    "    if keyword_filters:\n",
    "        terms_clauses = []\n",
    "\n",
    "        for field, values in keyword_filters.items():\n",
    "            terms_clauses.append({\"terms\": {field: values}})\n",
    "\n",
    "        opns_query[\"query\"][\"bool\"][\"filter\"] = terms_clauses\n",
    "\n",
    "    \n",
    "    if year_range:\n",
    "        if \"filter\" not in opns_query[\"query\"][\"bool\"]:\n",
    "            opns_query[\"query\"][\"bool\"][\"filter\"] = []\n",
    "\n",
    "        opns_query[\"query\"][\"bool\"][\"filter\"].append(\n",
    "            _year_range_filter(year_range)\n",
    "        )\n",
    "        \n",
    "    # TODO: how does this work in a situation with more than 10,000 i.e. paginated results?\n",
    "    if sort_field and sort_order:\n",
    "        opns_query[\"aggs\"][\"top_docs\"][\"terms\"][\"order\"] = {f\"{sort_field}.avg\": sort_order}\n",
    "    \n",
    "    start = time.time()\n",
    "    response = opns.search(\n",
    "        body=opns_query,\n",
    "        index=\"navigator\",\n",
    "        request_timeout=30,\n",
    "        preference=\"prototype_user\", # TODO: document what this means\n",
    "        explain=True,\n",
    "    )\n",
    "    end = time.time()\n",
    "    \n",
    "    passage_hit_count = response['hits']['total']['value']\n",
    "    # note: 'gte' values are returned when there are more than 10,000 results by default\n",
    "    if response['hits']['total']['relation'] == \"eq\":\n",
    "        passage_hit_qualifier = \"exactly\"\n",
    "    elif response['hits']['total']['relation'] == \"gte\":\n",
    "        passage_hit_qualifier = \"at least\"\n",
    "    \n",
    "    doc_hit_count = response['aggregations']['bucketcount']['count']\n",
    "    \n",
    "    print(f\"query execution time: {round(end-start, 2)}s\")\n",
    "    print(f\"returned {passage_hit_qualifier} {passage_hit_count} passage(s) in {doc_hit_count} document(s)\")\n",
    "    \n",
    "    return response\n",
    "\n",
    "# TODO: we should experimentally adjust this threshold \n",
    "response = run_query(\n",
    "    \"This scheme is aimed at engaging groups of private households, registered Housing Associations and Local Authorities and Energy Utilities or other organisations\", \n",
    "    max_passages_per_doc=10,\n",
    "    # year_range=(2000, None),\n",
    "    # keyword_filters={\n",
    "    #     \"country_code\": [\"CHE\"]\n",
    "    # },\n",
    "    # sort_field = \"action_date\",\n",
    "    # sort_order = \"desc\",\n",
    ")\n",
    "\n",
    "response"
   ]
  },
  {
   "cell_type": "code",
   "execution_count": null,
   "id": "18356e00-c74c-4709-9b0f-9cbe16af67b0",
   "metadata": {},
   "outputs": [],
   "source": []
  }
 ],
 "metadata": {
  "kernelspec": {
   "display_name": "Python 3 (ipykernel)",
   "language": "python",
   "name": "python3"
  },
  "language_info": {
   "codemirror_mode": {
    "name": "ipython",
    "version": 3
   },
   "file_extension": ".py",
   "mimetype": "text/x-python",
   "name": "python",
   "nbconvert_exporter": "python",
   "pygments_lexer": "ipython3",
   "version": "3.8.12"
  }
 },
 "nbformat": 4,
 "nbformat_minor": 5
}
